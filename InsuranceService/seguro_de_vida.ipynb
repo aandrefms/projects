{
 "cells": [
  {
   "cell_type": "code",
   "execution_count": 1,
   "metadata": {},
   "outputs": [],
   "source": [
    "import os\n",
    "import random\n",
    "import re\n",
    "import time\n",
    "\n",
    "import pandas as pd\n",
    "import numpy as np\n",
    "# import warnings\n",
    "import warnings\n",
    "import seaborn as sns\n",
    "import os\n",
    "import matplotlib.pyplot as plt\n",
    "\n",
    "from scipy import stats\n",
    "\n",
    "from sklearn.naive_bayes import MultinomialNB\n",
    "from sklearn.ensemble import RandomForestClassifier, GradientBoostingClassifier\n",
    "from sklearn.linear_model import LogisticRegression, SGDClassifier, Perceptron, RidgeClassifier\n",
    "from sklearn.neighbors import KNeighborsClassifier\n",
    "from sklearn.neural_network import MLPClassifier\n",
    "from sklearn.svm import LinearSVC\n",
    "from sklearn.tree import DecisionTreeClassifier \n",
    "\n",
    "import skopt\n",
    "from skopt import gp_minimize\n",
    "from skopt.space import Real, Integer\n",
    "from skopt.utils import use_named_args\n",
    "\n",
    "# ignore warnings\n",
    "warnings.filterwarnings(\"ignore\")\n",
    "# Any results you write to the current directory are saved as output."
   ]
  },
  {
   "cell_type": "markdown",
   "metadata": {},
   "source": [
    "# Primeiros Passos"
   ]
  },
  {
   "cell_type": "markdown",
   "metadata": {},
   "source": [
    "- Este Dataset representa dados de uma empresa de seguro de vida interessada em expandir para seus clientes seguro de veículos.\n",
    "- O objetivo então é criar um modelo que consiga prever se uma pessoa que já é cliente de seguro de vida se interessaria em fazer um seguro de veículo."
   ]
  },
  {
   "cell_type": "markdown",
   "metadata": {},
   "source": [
    "### Carregando o arquivo e primeiras análises"
   ]
  },
  {
   "cell_type": "code",
   "execution_count": 2,
   "metadata": {},
   "outputs": [],
   "source": [
    "dtrain = pd.read_csv('./input/train.csv')\n",
    "dtest = pd.read_csv('./input/test.csv')"
   ]
  },
  {
   "cell_type": "code",
   "execution_count": 3,
   "metadata": {},
   "outputs": [
    {
     "data": {
      "text/html": [
       "<div>\n",
       "<style scoped>\n",
       "    .dataframe tbody tr th:only-of-type {\n",
       "        vertical-align: middle;\n",
       "    }\n",
       "\n",
       "    .dataframe tbody tr th {\n",
       "        vertical-align: top;\n",
       "    }\n",
       "\n",
       "    .dataframe thead th {\n",
       "        text-align: right;\n",
       "    }\n",
       "</style>\n",
       "<table border=\"1\" class=\"dataframe\">\n",
       "  <thead>\n",
       "    <tr style=\"text-align: right;\">\n",
       "      <th></th>\n",
       "      <th>id</th>\n",
       "      <th>Gender</th>\n",
       "      <th>Age</th>\n",
       "      <th>Driving_License</th>\n",
       "      <th>Region_Code</th>\n",
       "      <th>Previously_Insured</th>\n",
       "      <th>Vehicle_Age</th>\n",
       "      <th>Vehicle_Damage</th>\n",
       "      <th>Annual_Premium</th>\n",
       "      <th>Policy_Sales_Channel</th>\n",
       "      <th>Vintage</th>\n",
       "      <th>Response</th>\n",
       "    </tr>\n",
       "  </thead>\n",
       "  <tbody>\n",
       "    <tr>\n",
       "      <th>0</th>\n",
       "      <td>1</td>\n",
       "      <td>Male</td>\n",
       "      <td>44</td>\n",
       "      <td>1</td>\n",
       "      <td>28.0</td>\n",
       "      <td>0</td>\n",
       "      <td>&gt; 2 Years</td>\n",
       "      <td>Yes</td>\n",
       "      <td>40454.0</td>\n",
       "      <td>26.0</td>\n",
       "      <td>217</td>\n",
       "      <td>1</td>\n",
       "    </tr>\n",
       "    <tr>\n",
       "      <th>1</th>\n",
       "      <td>2</td>\n",
       "      <td>Male</td>\n",
       "      <td>76</td>\n",
       "      <td>1</td>\n",
       "      <td>3.0</td>\n",
       "      <td>0</td>\n",
       "      <td>1-2 Year</td>\n",
       "      <td>No</td>\n",
       "      <td>33536.0</td>\n",
       "      <td>26.0</td>\n",
       "      <td>183</td>\n",
       "      <td>0</td>\n",
       "    </tr>\n",
       "    <tr>\n",
       "      <th>2</th>\n",
       "      <td>3</td>\n",
       "      <td>Male</td>\n",
       "      <td>47</td>\n",
       "      <td>1</td>\n",
       "      <td>28.0</td>\n",
       "      <td>0</td>\n",
       "      <td>&gt; 2 Years</td>\n",
       "      <td>Yes</td>\n",
       "      <td>38294.0</td>\n",
       "      <td>26.0</td>\n",
       "      <td>27</td>\n",
       "      <td>1</td>\n",
       "    </tr>\n",
       "    <tr>\n",
       "      <th>3</th>\n",
       "      <td>4</td>\n",
       "      <td>Male</td>\n",
       "      <td>21</td>\n",
       "      <td>1</td>\n",
       "      <td>11.0</td>\n",
       "      <td>1</td>\n",
       "      <td>&lt; 1 Year</td>\n",
       "      <td>No</td>\n",
       "      <td>28619.0</td>\n",
       "      <td>152.0</td>\n",
       "      <td>203</td>\n",
       "      <td>0</td>\n",
       "    </tr>\n",
       "    <tr>\n",
       "      <th>4</th>\n",
       "      <td>5</td>\n",
       "      <td>Female</td>\n",
       "      <td>29</td>\n",
       "      <td>1</td>\n",
       "      <td>41.0</td>\n",
       "      <td>1</td>\n",
       "      <td>&lt; 1 Year</td>\n",
       "      <td>No</td>\n",
       "      <td>27496.0</td>\n",
       "      <td>152.0</td>\n",
       "      <td>39</td>\n",
       "      <td>0</td>\n",
       "    </tr>\n",
       "  </tbody>\n",
       "</table>\n",
       "</div>"
      ],
      "text/plain": [
       "   id  Gender  Age  Driving_License  Region_Code  Previously_Insured  \\\n",
       "0   1    Male   44                1         28.0                   0   \n",
       "1   2    Male   76                1          3.0                   0   \n",
       "2   3    Male   47                1         28.0                   0   \n",
       "3   4    Male   21                1         11.0                   1   \n",
       "4   5  Female   29                1         41.0                   1   \n",
       "\n",
       "  Vehicle_Age Vehicle_Damage  Annual_Premium  Policy_Sales_Channel  Vintage  \\\n",
       "0   > 2 Years            Yes         40454.0                  26.0      217   \n",
       "1    1-2 Year             No         33536.0                  26.0      183   \n",
       "2   > 2 Years            Yes         38294.0                  26.0       27   \n",
       "3    < 1 Year             No         28619.0                 152.0      203   \n",
       "4    < 1 Year             No         27496.0                 152.0       39   \n",
       "\n",
       "   Response  \n",
       "0         1  \n",
       "1         0  \n",
       "2         1  \n",
       "3         0  \n",
       "4         0  "
      ]
     },
     "execution_count": 3,
     "metadata": {},
     "output_type": "execute_result"
    }
   ],
   "source": [
    "dtrain.head()"
   ]
  },
  {
   "cell_type": "markdown",
   "metadata": {},
   "source": [
    "## Visualizando"
   ]
  },
  {
   "cell_type": "markdown",
   "metadata": {},
   "source": [
    "- Vamos começar visualizando a relação entre gênero e a resposta"
   ]
  },
  {
   "cell_type": "code",
   "execution_count": 69,
   "metadata": {},
   "outputs": [],
   "source": [
    "df=dtrain.groupby(['Gender','Response'])['id'].count().to_frame().rename(columns={'id':'count'}).reset_index()"
   ]
  },
  {
   "cell_type": "code",
   "execution_count": 70,
   "metadata": {},
   "outputs": [
    {
     "data": {
      "image/png": "[encoded data removed]",
      "text/plain": [
       "<Figure size 518.4x288 with 2 Axes>"
      ]
     },
     "metadata": {
      "needs_background": "light"
     },
     "output_type": "display_data"
    }
   ],
   "source": [
    "g = sns.catplot(x=\"Gender\", y=\"count\",col=\"Response\",\n",
    "                data=df, kind=\"bar\",\n",
    "                height=4, aspect=.9, palette='Blues');"
   ]
  },
  {
   "cell_type": "code",
   "execution_count": 71,
   "metadata": {},
   "outputs": [],
   "source": [
    "df2=dtrain.groupby(['Vehicle_Age','Response'])['id'].count().to_frame().rename(columns={'id':'count'}).reset_index()"
   ]
  },
  {
   "cell_type": "code",
   "execution_count": 72,
   "metadata": {},
   "outputs": [
    {
     "data": {
      "image/png": "[encoded data removed]",
      "text/plain": [
       "<Figure size 403.2x288 with 2 Axes>"
      ]
     },
     "metadata": {
      "needs_background": "light"
     },
     "output_type": "display_data"
    }
   ],
   "source": [
    "g = sns.catplot(x=\"Vehicle_Age\", y=\"count\",col=\"Response\",\n",
    "                data=df2, kind=\"bar\",\n",
    "                height=4, aspect=.7, palette='Greens');"
   ]
  },
  {
   "cell_type": "code",
   "execution_count": 79,
   "metadata": {},
   "outputs": [],
   "source": [
    "dtrain['Income'] = dtrain['Annual_Premium'].apply(lambda x: '> 30000' if  x>30000 else '< 30000')\n",
    "df2=dtrain.groupby(['Income','Response'])['id'].count().to_frame().rename(columns={'id':'count'}).reset_index()"
   ]
  },
  {
   "cell_type": "code",
   "execution_count": 81,
   "metadata": {},
   "outputs": [
    {
     "data": {
      "image/png": "[encoded data removed]",
      "text/plain": [
       "<Figure size 403.2x288 with 2 Axes>"
      ]
     },
     "metadata": {
      "needs_background": "light"
     },
     "output_type": "display_data"
    }
   ],
   "source": [
    "g = sns.catplot(x=\"Income\", y=\"count\",col=\"Response\",\n",
    "                data=df2, kind=\"bar\",\n",
    "                height=4, aspect=.7, palette='Reds');\n",
    "dtrain = dtrain.drop('Income', axis=1)"
   ]
  },
  {
   "cell_type": "code",
   "execution_count": 83,
   "metadata": {},
   "outputs": [],
   "source": [
    "dtrain['Age_cat'] = dtrain['Age'].apply(lambda x: '< 30' if  x< 30 else ( '> 30 and < 60') if x < 60 else '> 60')\n",
    "df2=dtrain.groupby(['Age_cat','Response'])['id'].count().to_frame().rename(columns={'id':'count'}).reset_index()"
   ]
  },
  {
   "cell_type": "code",
   "execution_count": 85,
   "metadata": {},
   "outputs": [
    {
     "data": {
      "image/png": "[encoded data removed]",
      "text/plain": [
       "<Figure size 403.2x288 with 2 Axes>"
      ]
     },
     "metadata": {
      "needs_background": "light"
     },
     "output_type": "display_data"
    }
   ],
   "source": [
    "g = sns.catplot(x=\"Age_cat\", y=\"count\",col=\"Response\",\n",
    "                data=df2, kind=\"bar\",\n",
    "                height=4, aspect=.7, palette='Pastel1');\n",
    "dtrain = dtrain.drop('Age_cat', axis=1)"
   ]
  },
  {
   "cell_type": "code",
   "execution_count": 82,
   "metadata": {},
   "outputs": [
    {
     "data": {
      "text/plain": [
       "<matplotlib.legend.Legend at 0x2333bc128e0>"
      ]
     },
     "execution_count": 82,
     "metadata": {},
     "output_type": "execute_result"
    },
    {
     "data": {
      "image/png": "[encoded data removed]",
      "text/plain": [
       "<Figure size 720x576 with 1 Axes>"
      ]
     },
     "metadata": {
      "needs_background": "light"
     },
     "output_type": "display_data"
    }
   ],
   "source": [
    "plt.figure(figsize=(10,8))\n",
    "plt.title('Distribuição das Idades')\n",
    "sns.distplot(dtrain['Age'], kde=True, color='blue', fit=stats.norm)\n",
    "plt.legend(['Distribuição Normal', 'Idades'])\n"
   ]
  },
  {
   "cell_type": "markdown",
   "metadata": {},
   "source": [
    "- Constatamos um gráfico descendente: O número de pessoas com seguro de vida decai em idades mais avançadas"
   ]
  },
  {
   "cell_type": "code",
   "execution_count": null,
   "metadata": {},
   "outputs": [],
   "source": [
    "plt.figure(figsize=(10,8))\n",
    "plt.title('Distribuição das Idades')\n",
    "sns.distplot(dtrain['Age'], kde=True, color='green', fit=stats.norm)\n",
    "plt.legend(['Distribuição Normal', 'Idades'])"
   ]
  },
  {
   "cell_type": "markdown",
   "metadata": {},
   "source": [
    "### Correlação"
   ]
  },
  {
   "cell_type": "markdown",
   "metadata": {},
   "source": [
    "- Vamos ferificar a correlação entre o interesse em fazer um seguro para o veículo com as demais variáveis"
   ]
  },
  {
   "cell_type": "code",
   "execution_count": 9,
   "metadata": {},
   "outputs": [
    {
     "data": {
      "text/plain": [
       "<AxesSubplot:>"
      ]
     },
     "execution_count": 9,
     "metadata": {},
     "output_type": "execute_result"
    },
    {
     "data": {
      "image/png": "[encoded data removed]",
      "text/plain": [
       "<Figure size 1080x720 with 2 Axes>"
      ]
     },
     "metadata": {
      "needs_background": "light"
     },
     "output_type": "display_data"
    }
   ],
   "source": [
    "plt.figure(figsize=(15,10))\n",
    "sns.heatmap(dtrain.corr().abs(), annot=True)"
   ]
  },
  {
   "cell_type": "markdown",
   "metadata": {},
   "source": [
    "- Constatamos que 'Previously_insured'(Já fez seguro antes), Idade e a politica de vendas foram as variáveis com maior correlação"
   ]
  },
  {
   "cell_type": "markdown",
   "metadata": {},
   "source": [
    "### Transformações no Dataset"
   ]
  },
  {
   "cell_type": "markdown",
   "metadata": {},
   "source": [
    "- Irei Retirar algumas das variáveis com as correlações mais baixas:"
   ]
  },
  {
   "cell_type": "code",
   "execution_count": 10,
   "metadata": {},
   "outputs": [
    {
     "data": {
      "text/html": [
       "<div>\n",
       "<style scoped>\n",
       "    .dataframe tbody tr th:only-of-type {\n",
       "        vertical-align: middle;\n",
       "    }\n",
       "\n",
       "    .dataframe tbody tr th {\n",
       "        vertical-align: top;\n",
       "    }\n",
       "\n",
       "    .dataframe thead th {\n",
       "        text-align: right;\n",
       "    }\n",
       "</style>\n",
       "<table border=\"1\" class=\"dataframe\">\n",
       "  <thead>\n",
       "    <tr style=\"text-align: right;\">\n",
       "      <th></th>\n",
       "      <th>Gender</th>\n",
       "      <th>Age</th>\n",
       "      <th>Driving_License</th>\n",
       "      <th>Previously_Insured</th>\n",
       "      <th>Vehicle_Age</th>\n",
       "      <th>Vehicle_Damage</th>\n",
       "      <th>Annual_Premium</th>\n",
       "      <th>Policy_Sales_Channel</th>\n",
       "    </tr>\n",
       "  </thead>\n",
       "  <tbody>\n",
       "    <tr>\n",
       "      <th>0</th>\n",
       "      <td>Male</td>\n",
       "      <td>25</td>\n",
       "      <td>1</td>\n",
       "      <td>1</td>\n",
       "      <td>&lt; 1 Year</td>\n",
       "      <td>No</td>\n",
       "      <td>35786.0</td>\n",
       "      <td>152.0</td>\n",
       "    </tr>\n",
       "    <tr>\n",
       "      <th>1</th>\n",
       "      <td>Male</td>\n",
       "      <td>40</td>\n",
       "      <td>1</td>\n",
       "      <td>0</td>\n",
       "      <td>1-2 Year</td>\n",
       "      <td>Yes</td>\n",
       "      <td>33762.0</td>\n",
       "      <td>7.0</td>\n",
       "    </tr>\n",
       "    <tr>\n",
       "      <th>2</th>\n",
       "      <td>Male</td>\n",
       "      <td>47</td>\n",
       "      <td>1</td>\n",
       "      <td>0</td>\n",
       "      <td>1-2 Year</td>\n",
       "      <td>Yes</td>\n",
       "      <td>40050.0</td>\n",
       "      <td>124.0</td>\n",
       "    </tr>\n",
       "    <tr>\n",
       "      <th>3</th>\n",
       "      <td>Male</td>\n",
       "      <td>24</td>\n",
       "      <td>1</td>\n",
       "      <td>1</td>\n",
       "      <td>&lt; 1 Year</td>\n",
       "      <td>Yes</td>\n",
       "      <td>37356.0</td>\n",
       "      <td>152.0</td>\n",
       "    </tr>\n",
       "    <tr>\n",
       "      <th>4</th>\n",
       "      <td>Male</td>\n",
       "      <td>27</td>\n",
       "      <td>1</td>\n",
       "      <td>1</td>\n",
       "      <td>&lt; 1 Year</td>\n",
       "      <td>No</td>\n",
       "      <td>59097.0</td>\n",
       "      <td>152.0</td>\n",
       "    </tr>\n",
       "    <tr>\n",
       "      <th>...</th>\n",
       "      <td>...</td>\n",
       "      <td>...</td>\n",
       "      <td>...</td>\n",
       "      <td>...</td>\n",
       "      <td>...</td>\n",
       "      <td>...</td>\n",
       "      <td>...</td>\n",
       "      <td>...</td>\n",
       "    </tr>\n",
       "    <tr>\n",
       "      <th>127032</th>\n",
       "      <td>Female</td>\n",
       "      <td>26</td>\n",
       "      <td>1</td>\n",
       "      <td>1</td>\n",
       "      <td>&lt; 1 Year</td>\n",
       "      <td>No</td>\n",
       "      <td>30867.0</td>\n",
       "      <td>152.0</td>\n",
       "    </tr>\n",
       "    <tr>\n",
       "      <th>127033</th>\n",
       "      <td>Female</td>\n",
       "      <td>38</td>\n",
       "      <td>1</td>\n",
       "      <td>0</td>\n",
       "      <td>1-2 Year</td>\n",
       "      <td>Yes</td>\n",
       "      <td>28700.0</td>\n",
       "      <td>122.0</td>\n",
       "    </tr>\n",
       "    <tr>\n",
       "      <th>127034</th>\n",
       "      <td>Male</td>\n",
       "      <td>21</td>\n",
       "      <td>1</td>\n",
       "      <td>1</td>\n",
       "      <td>&lt; 1 Year</td>\n",
       "      <td>No</td>\n",
       "      <td>29802.0</td>\n",
       "      <td>152.0</td>\n",
       "    </tr>\n",
       "    <tr>\n",
       "      <th>127035</th>\n",
       "      <td>Male</td>\n",
       "      <td>71</td>\n",
       "      <td>1</td>\n",
       "      <td>1</td>\n",
       "      <td>1-2 Year</td>\n",
       "      <td>No</td>\n",
       "      <td>62875.0</td>\n",
       "      <td>26.0</td>\n",
       "    </tr>\n",
       "    <tr>\n",
       "      <th>127036</th>\n",
       "      <td>Male</td>\n",
       "      <td>41</td>\n",
       "      <td>1</td>\n",
       "      <td>1</td>\n",
       "      <td>1-2 Year</td>\n",
       "      <td>No</td>\n",
       "      <td>27927.0</td>\n",
       "      <td>124.0</td>\n",
       "    </tr>\n",
       "  </tbody>\n",
       "</table>\n",
       "<p>127037 rows × 8 columns</p>\n",
       "</div>"
      ],
      "text/plain": [
       "        Gender  Age  Driving_License  Previously_Insured Vehicle_Age  \\\n",
       "0         Male   25                1                   1    < 1 Year   \n",
       "1         Male   40                1                   0    1-2 Year   \n",
       "2         Male   47                1                   0    1-2 Year   \n",
       "3         Male   24                1                   1    < 1 Year   \n",
       "4         Male   27                1                   1    < 1 Year   \n",
       "...        ...  ...              ...                 ...         ...   \n",
       "127032  Female   26                1                   1    < 1 Year   \n",
       "127033  Female   38                1                   0    1-2 Year   \n",
       "127034    Male   21                1                   1    < 1 Year   \n",
       "127035    Male   71                1                   1    1-2 Year   \n",
       "127036    Male   41                1                   1    1-2 Year   \n",
       "\n",
       "       Vehicle_Damage  Annual_Premium  Policy_Sales_Channel  \n",
       "0                  No         35786.0                 152.0  \n",
       "1                 Yes         33762.0                   7.0  \n",
       "2                 Yes         40050.0                 124.0  \n",
       "3                 Yes         37356.0                 152.0  \n",
       "4                  No         59097.0                 152.0  \n",
       "...               ...             ...                   ...  \n",
       "127032             No         30867.0                 152.0  \n",
       "127033            Yes         28700.0                 122.0  \n",
       "127034             No         29802.0                 152.0  \n",
       "127035             No         62875.0                  26.0  \n",
       "127036             No         27927.0                 124.0  \n",
       "\n",
       "[127037 rows x 8 columns]"
      ]
     },
     "execution_count": 10,
     "metadata": {},
     "output_type": "execute_result"
    }
   ],
   "source": [
    "columns_drop = ['Vintage', 'id', 'Region_Code', 'Vintage']\n",
    "dtrain.drop(columns_drop, axis=1)\n",
    "dtest.drop(columns_drop, axis=1)"
   ]
  },
  {
   "cell_type": "markdown",
   "metadata": {},
   "source": [
    "- Agora, transformarei as variáveis catégoricas em numéricas, para poder utiliza-las no Modelo "
   ]
  },
  {
   "cell_type": "code",
   "execution_count": 11,
   "metadata": {},
   "outputs": [],
   "source": [
    "from sklearn.preprocessing import LabelEncoder\n",
    "cat_features = ['Gender', 'Vehicle_Age', 'Vehicle_Damage']\n",
    "encoder = LabelEncoder()\n",
    "\n",
    "encodedtrain = dtrain[cat_features].apply(encoder.fit_transform)\n",
    "encodedtest = dtest[cat_features].apply(encoder.fit_transform)"
   ]
  },
  {
   "cell_type": "code",
   "execution_count": 12,
   "metadata": {},
   "outputs": [],
   "source": [
    "other_columns = ['Age', 'Driving_License', 'Previously_Insured', 'Annual_Premium', 'Policy_Sales_Channel', 'Response']\n",
    "other_columns1 = ['Age', 'Driving_License', 'Previously_Insured', 'Annual_Premium', 'Policy_Sales_Channel']\n",
    "dtrain = dtrain[other_columns].join(encodedtrain)\n",
    "dtest = dtest[other_columns1].join(encodedtrain)"
   ]
  },
  {
   "cell_type": "code",
   "execution_count": 13,
   "metadata": {},
   "outputs": [
    {
     "data": {
      "text/html": [
       "<div>\n",
       "<style scoped>\n",
       "    .dataframe tbody tr th:only-of-type {\n",
       "        vertical-align: middle;\n",
       "    }\n",
       "\n",
       "    .dataframe tbody tr th {\n",
       "        vertical-align: top;\n",
       "    }\n",
       "\n",
       "    .dataframe thead th {\n",
       "        text-align: right;\n",
       "    }\n",
       "</style>\n",
       "<table border=\"1\" class=\"dataframe\">\n",
       "  <thead>\n",
       "    <tr style=\"text-align: right;\">\n",
       "      <th></th>\n",
       "      <th>Age</th>\n",
       "      <th>Driving_License</th>\n",
       "      <th>Previously_Insured</th>\n",
       "      <th>Annual_Premium</th>\n",
       "      <th>Policy_Sales_Channel</th>\n",
       "      <th>Response</th>\n",
       "      <th>Gender</th>\n",
       "      <th>Vehicle_Age</th>\n",
       "      <th>Vehicle_Damage</th>\n",
       "    </tr>\n",
       "  </thead>\n",
       "  <tbody>\n",
       "    <tr>\n",
       "      <th>0</th>\n",
       "      <td>44</td>\n",
       "      <td>1</td>\n",
       "      <td>0</td>\n",
       "      <td>40454.0</td>\n",
       "      <td>26.0</td>\n",
       "      <td>1</td>\n",
       "      <td>1</td>\n",
       "      <td>2</td>\n",
       "      <td>1</td>\n",
       "    </tr>\n",
       "    <tr>\n",
       "      <th>1</th>\n",
       "      <td>76</td>\n",
       "      <td>1</td>\n",
       "      <td>0</td>\n",
       "      <td>33536.0</td>\n",
       "      <td>26.0</td>\n",
       "      <td>0</td>\n",
       "      <td>1</td>\n",
       "      <td>0</td>\n",
       "      <td>0</td>\n",
       "    </tr>\n",
       "    <tr>\n",
       "      <th>2</th>\n",
       "      <td>47</td>\n",
       "      <td>1</td>\n",
       "      <td>0</td>\n",
       "      <td>38294.0</td>\n",
       "      <td>26.0</td>\n",
       "      <td>1</td>\n",
       "      <td>1</td>\n",
       "      <td>2</td>\n",
       "      <td>1</td>\n",
       "    </tr>\n",
       "    <tr>\n",
       "      <th>3</th>\n",
       "      <td>21</td>\n",
       "      <td>1</td>\n",
       "      <td>1</td>\n",
       "      <td>28619.0</td>\n",
       "      <td>152.0</td>\n",
       "      <td>0</td>\n",
       "      <td>1</td>\n",
       "      <td>1</td>\n",
       "      <td>0</td>\n",
       "    </tr>\n",
       "    <tr>\n",
       "      <th>4</th>\n",
       "      <td>29</td>\n",
       "      <td>1</td>\n",
       "      <td>1</td>\n",
       "      <td>27496.0</td>\n",
       "      <td>152.0</td>\n",
       "      <td>0</td>\n",
       "      <td>0</td>\n",
       "      <td>1</td>\n",
       "      <td>0</td>\n",
       "    </tr>\n",
       "  </tbody>\n",
       "</table>\n",
       "</div>"
      ],
      "text/plain": [
       "   Age  Driving_License  Previously_Insured  Annual_Premium  \\\n",
       "0   44                1                   0         40454.0   \n",
       "1   76                1                   0         33536.0   \n",
       "2   47                1                   0         38294.0   \n",
       "3   21                1                   1         28619.0   \n",
       "4   29                1                   1         27496.0   \n",
       "\n",
       "   Policy_Sales_Channel  Response  Gender  Vehicle_Age  Vehicle_Damage  \n",
       "0                  26.0         1       1            2               1  \n",
       "1                  26.0         0       1            0               0  \n",
       "2                  26.0         1       1            2               1  \n",
       "3                 152.0         0       1            1               0  \n",
       "4                 152.0         0       0            1               0  "
      ]
     },
     "execution_count": 13,
     "metadata": {},
     "output_type": "execute_result"
    }
   ],
   "source": [
    "dtrain.head()"
   ]
  },
  {
   "cell_type": "markdown",
   "metadata": {},
   "source": [
    "# Modelagem"
   ]
  },
  {
   "cell_type": "markdown",
   "metadata": {},
   "source": [
    "- Iremos construir nosso modelo utilizando com base modelos para resolução de problemas de classificação\n",
    "- Começaremos dividindo o Dataset em dois: Train e Test\n",
    "- Depois, verificaremos o desempenho de alguns destes modelos com os parâmetros padrão"
   ]
  },
  {
   "cell_type": "code",
   "execution_count": 22,
   "metadata": {},
   "outputs": [
    {
     "name": "stdout",
     "output_type": "stream",
     "text": [
      "len(train)=304894; len(test)=76215\n"
     ]
    }
   ],
   "source": [
    "N = len(dtrain)\n",
    "TRAIN_PERC = 0.8\n",
    "ind_train = np.random.rand(N)  < TRAIN_PERC\n",
    "train, test = dtrain[ind_train], dtrain[~ind_train]\n",
    "print(f'len(train)={len(train)}; len(test)={len(test)}')"
   ]
  },
  {
   "cell_type": "code",
   "execution_count": 23,
   "metadata": {},
   "outputs": [],
   "source": [
    "X_train = train.drop('Response', axis=1)\n",
    "y_train = train['Response']\n",
    "X_test = test.drop('Response', axis=1)\n",
    "y_test = test['Response']"
   ]
  },
  {
   "cell_type": "code",
   "execution_count": 24,
   "metadata": {},
   "outputs": [],
   "source": [
    "clf_dict = {\n",
    "    'KNeighborsClassifier' : KNeighborsClassifier,\n",
    "    'LogisticRegression': LogisticRegression,\n",
    "    'MultinomialNB': MultinomialNB,\n",
    "    'DecisionTreeClassifier': DecisionTreeClassifier,\n",
    "    'SGDClassifier': SGDClassifier,\n",
    "    'Perceptron': Perceptron,\n",
    "    'RidgeClassifier': RidgeClassifier,\n",
    "    'LinearSVC': LinearSVC,\n",
    "    'RandomForestClassifier': RandomForestClassifier,\n",
    "    'GradientBoostingClassifier': GradientBoostingClassifier\n",
    "}"
   ]
  },
  {
   "cell_type": "code",
   "execution_count": 25,
   "metadata": {},
   "outputs": [
    {
     "name": "stdout",
     "output_type": "stream",
     "text": [
      "Accuracy gets in 16.09s.\n",
      "Clf=KNeighborsClassifier; Accuracy=0.8749458767959063\n",
      "Accuracy gets in 3.14s.\n",
      "Clf=LogisticRegression; Accuracy=0.8759299350521551\n",
      "Accuracy gets in 0.12s.\n",
      "Clf=MultinomialNB; Accuracy=0.6815325067243981\n",
      "Accuracy gets in 0.94s.\n",
      "Clf=DecisionTreeClassifier; Accuracy=0.8773207373876534\n",
      "Accuracy gets in 25.78s.\n",
      "Clf=SGDClassifier; Accuracy=0.8780555008856524\n",
      "Accuracy gets in 0.59s.\n",
      "Clf=Perceptron; Accuracy=0.8378140785934527\n",
      "Accuracy gets in 0.22s.\n",
      "Clf=RidgeClassifier; Accuracy=0.8780817424391524\n",
      "Accuracy gets in 79.89s.\n",
      "Clf=LinearSVC; Accuracy=0.8780817424391524\n",
      "Accuracy gets in 15.57s.\n",
      "Clf=RandomForestClassifier; Accuracy=0.8780686216624024\n",
      "Accuracy gets in 20.37s.\n",
      "Clf=GradientBoostingClassifier; Accuracy=0.8780817424391524\n"
     ]
    }
   ],
   "source": [
    "def get_accuracy(clf, n_estimators=None, max_depth=None, learning_rate=None, max_iter=None):\n",
    "    start = time.time()\n",
    "    if clf == KNeighborsClassifier:\n",
    "        text_clf = clf(params).fit(X_train, y_train)\n",
    "    else:    \n",
    "        text_clf = clf(**params).fit(X_train, y_train)\n",
    "    predicted = text_clf.predict(X_test)\n",
    "    print(f'Accuracy gets in {round(time.time()-start, 2)}s.')\n",
    "    return np.mean(predicted == y_test)\n",
    "\n",
    "result_dict = {}\n",
    "\n",
    "for clf_str, clf_fn in clf_dict.items():\n",
    "    if clf_str == 'LogisticRegression':\n",
    "        params = {'max_iter': 200}\n",
    "    elif clf_str == 'RandomForestClassifier':\n",
    "        params = {'n_estimators': 50,\n",
    "                'max_depth':10}\n",
    "    elif clf_str == 'DecisionTreeClassifier':\n",
    "        params = {'max_depth' : 10}\n",
    "    elif clf_str == 'GradientBoostingClassifier':\n",
    "        params = {'n_estimators': 50,\n",
    "                  'learning_rate': 0.1}\n",
    "    elif clf_str == 'KNeighborsClassifier':\n",
    "        params = 10\n",
    "    else:\n",
    "        params = {}\n",
    "    if clf_fn == KNeighborsClassifier:\n",
    "        accuracy = get_accuracy(clf_fn, params)\n",
    "    else:\n",
    "        accuracy = get_accuracy(clf=clf_fn, **params)\n",
    "    result_dict[clf_str] = accuracy\n",
    "    print(f'Clf={clf_str}; Accuracy={accuracy}')"
   ]
  },
  {
   "cell_type": "code",
   "execution_count": 26,
   "metadata": {},
   "outputs": [
    {
     "data": {
      "text/plain": [
       "{'RidgeClassifier': 0.8780817424391524,\n",
       " 'LinearSVC': 0.8780817424391524,\n",
       " 'GradientBoostingClassifier': 0.8780817424391524,\n",
       " 'RandomForestClassifier': 0.8780686216624024,\n",
       " 'SGDClassifier': 0.8780555008856524,\n",
       " 'DecisionTreeClassifier': 0.8773207373876534,\n",
       " 'LogisticRegression': 0.8759299350521551,\n",
       " 'KNeighborsClassifier': 0.8749458767959063,\n",
       " 'Perceptron': 0.8378140785934527,\n",
       " 'MultinomialNB': 0.6815325067243981}"
      ]
     },
     "execution_count": 26,
     "metadata": {},
     "output_type": "execute_result"
    }
   ],
   "source": [
    "result_dict = {\n",
    "    k: v\n",
    "    for k, v in sorted(\n",
    "        result_dict.items(),\n",
    "        key=lambda x: x[1],\n",
    "        reverse=True\n",
    "    )\n",
    "}\n",
    "\n",
    "result_dict"
   ]
  },
  {
   "cell_type": "markdown",
   "metadata": {},
   "source": [
    "- Alcançamos uma precisão de 87.8% com os parâmetros padrão!\n",
    "- Vamos verificar se consenguimoms optmizar essa precisão com alterações nos parâmetros"
   ]
  },
  {
   "cell_type": "code",
   "execution_count": 27,
   "metadata": {},
   "outputs": [],
   "source": [
    "DIM_Logistic = [\n",
    "    Integer(100, 400, name='max_iter')\n",
    "]\n",
    "\n",
    "DIM_SVC = [\n",
    "    Real(1e-5, 1, name='tol', prior='log-uniform'),\n",
    "    Real(0.1, 1.5, name='C', prior='log-uniform')\n",
    "]\n",
    "\n",
    "DIM_SGDC = [\n",
    "    Real(1e-5, 1e-2, name='alpha', prior='log-uniform')\n",
    "]\n",
    "\n",
    "DIM_RF = [\n",
    "    Integer(1, 100, name='n_estimators'),\n",
    "    Integer(5, 30, name='max_depth')\n",
    "]\n",
    "\n",
    "DIM_TREE = [\n",
    "    Integer(5, 30, name='max_depth'),\n",
    "]\n",
    "\n",
    "DIMS = {\n",
    "    'LogisticRegression': DIM_Logistic,\n",
    "    'LinearSVC': DIM_SVC,\n",
    "    'SGDClassifier': DIM_SGDC,\n",
    "    'RandomForestClassifier': DIM_RF,\n",
    "    'DecisionTreeClassifier': DIM_TREE\n",
    "}"
   ]
  },
  {
   "cell_type": "code",
   "execution_count": 28,
   "metadata": {},
   "outputs": [],
   "source": [
    "def optimize(clf_str='LinearSVC'):\n",
    "    \n",
    "    dimensions = DIMS[clf_str]\n",
    "    print(dimensions)\n",
    "    \n",
    "    @use_named_args(dimensions=dimensions)\n",
    "    def fitness(**params):\n",
    "        clf = clf_dict[clf_str](**params)\n",
    "        text_clf = clf.fit(X_train, y_train)\n",
    "        predicted = text_clf.predict(X_test)\n",
    "        accuracy = np.mean(predicted == y_test)\n",
    "        print(f'accuracy = {accuracy} with params = {params}')\n",
    "        return -1.0 *accuracy\n",
    "    \n",
    "    res = gp_minimize(func=fitness,\n",
    "                     dimensions=dimensions,\n",
    "                     acq_func='EI',\n",
    "                     n_calls=10,\n",
    "                     random_state=666)\n",
    "    print(f'best accuracy={-1.0 * res.fun} with {res.x}')\n",
    "    return res"
   ]
  },
  {
   "cell_type": "code",
   "execution_count": 29,
   "metadata": {},
   "outputs": [
    {
     "name": "stdout",
     "output_type": "stream",
     "text": [
      "start optimizaton for LogisticRegression\n",
      "[Integer(low=100, high=400, prior='uniform', transform='identity')]\n",
      "accuracy = 0.8759299350521551 with params = {'max_iter': 131}\n",
      "accuracy = 0.8759299350521551 with params = {'max_iter': 163}\n",
      "accuracy = 0.8759299350521551 with params = {'max_iter': 139}\n",
      "accuracy = 0.8759299350521551 with params = {'max_iter': 325}\n",
      "accuracy = 0.8759299350521551 with params = {'max_iter': 201}\n",
      "accuracy = 0.8759299350521551 with params = {'max_iter': 173}\n",
      "accuracy = 0.8759299350521551 with params = {'max_iter': 178}\n",
      "accuracy = 0.8759299350521551 with params = {'max_iter': 184}\n",
      "accuracy = 0.8759299350521551 with params = {'max_iter': 239}\n",
      "accuracy = 0.8759299350521551 with params = {'max_iter': 170}\n",
      "best accuracy=0.8759299350521551 with [131]\n",
      "start optimizaton for LinearSVC\n",
      "[Real(low=1e-05, high=1, prior='log-uniform', transform='identity'), Real(low=0.1, high=1.5, prior='log-uniform', transform='identity')]\n",
      "accuracy = 0.8778324476809027 with params = {'tol': 3.2590317060358435e-05, 'C': 0.17723383193111547}\n",
      "accuracy = 0.8780817424391524 with params = {'tol': 4.414527342912078e-05, 'C': 0.7628816961239331}\n",
      "accuracy = 0.2540969625401824 with params = {'tol': 0.00047845573514670206, 'C': 0.19380701478072257}\n",
      "accuracy = 0.8780817424391524 with params = {'tol': 0.00019924054402314126, 'C': 0.21413112813185142}\n",
      "accuracy = 0.8780817424391524 with params = {'tol': 0.0020616191023600985, 'C': 0.1881485055702094}\n",
      "accuracy = 0.8780817424391524 with params = {'tol': 0.06844174269781644, 'C': 0.9211783872460952}\n",
      "accuracy = 0.5899626057862626 with params = {'tol': 0.0009713622714043581, 'C': 0.23559366117301345}\n",
      "accuracy = 0.8780817424391524 with params = {'tol': 5.9918414788335004e-05, 'C': 0.7310856330548163}\n",
      "accuracy = 0.8780555008856524 with params = {'tol': 0.045496473405299345, 'C': 1.0207519927651907}\n",
      "accuracy = 0.8779636554484025 with params = {'tol': 0.06871660898768098, 'C': 1.3215606065550862}\n",
      "best accuracy=0.8780817424391524 with [4.414527342912078e-05, 0.7628816961239331]\n",
      "start optimizaton for SGDClassifier\n",
      "[Real(low=1e-05, high=0.01, prior='log-uniform', transform='identity')]\n",
      "accuracy = 0.8475890572721905 with params = {'alpha': 2.031669923181096e-05}\n",
      "accuracy = 0.8768746309781539 with params = {'alpha': 4.3052494479948036e-05}\n",
      "accuracy = 0.8743554418421571 with params = {'alpha': 2.4374208772219314e-05}\n",
      "accuracy = 0.8766253362199042 with params = {'alpha': 0.0017823444328076245}\n",
      "accuracy = 0.8702486387194122 with params = {'alpha': 0.0001018368738042549}\n",
      "accuracy = 0.8678868989044152 with params = {'alpha': 5.4078987915686634e-05}\n",
      "accuracy = 0.8563012530341796 with params = {'alpha': 6.020417803091192e-05}\n",
      "accuracy = 0.8767565439874041 with params = {'alpha': 6.974377878633414e-05}\n",
      "accuracy = 0.21133635111198584 with params = {'alpha': 0.00024463864226893333}\n",
      "accuracy = 0.2168733189004789 with params = {'alpha': 5.014212529363377e-05}\n",
      "best accuracy=0.8768746309781539 with [4.3052494479948036e-05]\n",
      "start optimizaton for RandomForestClassifier\n",
      "[Integer(low=1, high=100, prior='uniform', transform='identity'), Integer(low=5, high=30, prior='uniform', transform='identity')]\n",
      "accuracy = 0.8780817424391524 with params = {'n_estimators': 11, 'max_depth': 10}\n",
      "accuracy = 0.8673095847274158 with params = {'n_estimators': 14, 'max_depth': 24}\n",
      "accuracy = 0.8781079839926523 with params = {'n_estimators': 34, 'max_depth': 11}\n",
      "accuracy = 0.8781473463229024 with params = {'n_estimators': 27, 'max_depth': 12}\n",
      "accuracy = 0.8781342255461523 with params = {'n_estimators': 47, 'max_depth': 11}\n",
      "accuracy = 0.8675326379321656 with params = {'n_estimators': 77, 'max_depth': 25}\n",
      "accuracy = 0.8780686216624024 with params = {'n_estimators': 40, 'max_depth': 13}\n",
      "accuracy = 0.8698943777471626 with params = {'n_estimators': 16, 'max_depth': 23}\n",
      "accuracy = 0.8653545889916683 with params = {'n_estimators': 73, 'max_depth': 26}\n",
      "accuracy = 0.8574296398346782 with params = {'n_estimators': 77, 'max_depth': 29}\n",
      "best accuracy=0.8781473463229024 with [27, 12]\n",
      "start optimizaton for DecisionTreeClassifier\n",
      "[Integer(low=5, high=30, prior='uniform', transform='identity')]\n",
      "accuracy = 0.8778718100111527 with params = {'max_depth': 8}\n",
      "accuracy = 0.8773076166109034 with params = {'max_depth': 10}\n",
      "accuracy = 0.8778718100111527 with params = {'max_depth': 8}\n",
      "accuracy = 0.8611690612084235 with params = {'max_depth': 24}\n",
      "accuracy = 0.8753788624286558 with params = {'max_depth': 13}\n",
      "accuracy = 0.8765990946664043 with params = {'max_depth': 11}\n",
      "accuracy = 0.8766122154431543 with params = {'max_depth': 11}\n",
      "accuracy = 0.875995538935905 with params = {'max_depth': 12}\n",
      "accuracy = 0.8708521944499115 with params = {'max_depth': 17}\n",
      "accuracy = 0.8766384569966542 with params = {'max_depth': 11}\n",
      "best accuracy=0.8778718100111527 with [8]\n"
     ]
    }
   ],
   "source": [
    "res_dict = {}\n",
    "for clf_str, clf_dim in DIMS.items():\n",
    "    print(f'start optimizaton for {clf_str}')\n",
    "    res = optimize(clf_str=clf_str)\n",
    "    res_dict[clf_str] = res"
   ]
  },
  {
   "cell_type": "code",
   "execution_count": 30,
   "metadata": {},
   "outputs": [
    {
     "name": "stdout",
     "output_type": "stream",
     "text": [
      "clf=LogisticRegression\n",
      "best accuracy=0.8759299350521551\n",
      "best hyperparameters={'max_iter': 131}\n",
      "\n",
      "clf=LinearSVC\n",
      "best accuracy=0.8780817424391524\n",
      "best hyperparameters={'tol': 4.414527342912078e-05, 'C': 0.7628816961239331}\n",
      "\n",
      "clf=SGDClassifier\n",
      "best accuracy=0.8768746309781539\n",
      "best hyperparameters={'alpha': 4.3052494479948036e-05}\n",
      "\n",
      "clf=RandomForestClassifier\n",
      "best accuracy=0.8781473463229024\n",
      "best hyperparameters={'n_estimators': 27, 'max_depth': 12}\n",
      "\n",
      "clf=DecisionTreeClassifier\n",
      "best accuracy=0.8778718100111527\n",
      "best hyperparameters={'max_depth': 8}\n",
      "\n"
     ]
    }
   ],
   "source": [
    "for clf_str, res in res_dict.items():\n",
    "    hyperparameters_label = [hp.name for hp in DIMS[clf_str]]\n",
    "    best_hyperparameters = dict(zip(hyperparameters_label, res.x))\n",
    "    print(f'clf={clf_str}\\nbest accuracy={-res.fun}\\nbest hyperparameters={best_hyperparameters}\\n')"
   ]
  },
  {
   "cell_type": "markdown",
   "metadata": {},
   "source": [
    "# Conclusão"
   ]
  },
  {
   "cell_type": "markdown",
   "metadata": {},
   "source": [
    "- Apesar de homens estarem em maior quantidade entre as pessoas com seguro de vida e entre aqueles que já tiveram seus veículos danificados, esse número não se traduz em interesse em fazer seguro de veículo\n",
    "- A maior relação está entre àqueles que já tiveram danos em seus veículos\n",
    "- A maioria dos interessados tem idade entre 30 e 60 anos\n",
    "- A precisão do modelo é de 87.81%"
   ]
  },
  {
   "cell_type": "code",
   "execution_count": null,
   "metadata": {},
   "outputs": [],
   "source": []
  }
 ],
 "metadata": {
  "kernelspec": {
   "display_name": "Python 3",
   "language": "python",
   "name": "python3"
  },
  "language_info": {
   "codemirror_mode": {
    "name": "ipython",
    "version": 3
   },
   "file_extension": ".py",
   "mimetype": "text/x-python",
   "name": "python",
   "nbconvert_exporter": "python",
   "pygments_lexer": "ipython3",
   "version": "3.8.3"
  }
 },
 "nbformat": 4,
 "nbformat_minor": 4
}
