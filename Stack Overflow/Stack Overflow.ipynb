{
 "cells": [
  {
   "cell_type": "code",
   "execution_count": 149,
   "metadata": {},
   "outputs": [],
   "source": [
    "import os\n",
    "import random\n",
    "import re\n",
    "import time\n",
    "\n",
    "import pandas as pd\n",
    "import numpy as np\n",
    "# import warnings\n",
    "import warnings\n",
    "import seaborn as sns\n",
    "import os\n",
    "import matplotlib.pyplot as plt\n",
    "\n",
    "\n",
    "from sklearn.feature_extraction.text import CountVectorizer\n",
    "from sklearn.feature_extraction.text import TfidfTransformer\n",
    "\n",
    "from sklearn.naive_bayes import MultinomialNB\n",
    "from sklearn.ensemble import RandomForestClassifier, GradientBoostingClassifier\n",
    "from sklearn.linear_model import LogisticRegression, SGDClassifier, Perceptron, RidgeClassifier\n",
    "from sklearn.neural_network import MLPClassifier\n",
    "from sklearn.svm import LinearSVC\n",
    "from sklearn.tree import DecisionTreeClassifier \n",
    "\n",
    "import skopt\n",
    "from skopt import gp_minimize\n",
    "from skopt.space import Real, Integer\n",
    "from skopt.utils import use_named_args\n",
    "\n",
    "# ignore warnings\n",
    "warnings.filterwarnings(\"ignore\")\n",
    "# Any results you write to the current directory are saved as output."
   ]
  },
  {
   "cell_type": "markdown",
   "metadata": {},
   "source": [
    "## Dataset"
   ]
  },
  {
   "cell_type": "markdown",
   "metadata": {},
   "source": [
    "Este Dataset foi disponibilizado no site da Kaggle, e contem 60.000 perguntas realizadas entre 2016-2020 no site Stack Overflow. Vamos então fazer a leitura do arquivo CSV"
   ]
  },
  {
   "cell_type": "code",
   "execution_count": 120,
   "metadata": {},
   "outputs": [],
   "source": [
    "df = pd.read_csv('./input/data.csv')"
   ]
  },
  {
   "cell_type": "code",
   "execution_count": 121,
   "metadata": {},
   "outputs": [
    {
     "data": {
      "text/html": [
       "<div>\n",
       "<style scoped>\n",
       "    .dataframe tbody tr th:only-of-type {\n",
       "        vertical-align: middle;\n",
       "    }\n",
       "\n",
       "    .dataframe tbody tr th {\n",
       "        vertical-align: top;\n",
       "    }\n",
       "\n",
       "    .dataframe thead th {\n",
       "        text-align: right;\n",
       "    }\n",
       "</style>\n",
       "<table border=\"1\" class=\"dataframe\">\n",
       "  <thead>\n",
       "    <tr style=\"text-align: right;\">\n",
       "      <th></th>\n",
       "      <th>Id</th>\n",
       "      <th>Title</th>\n",
       "      <th>Body</th>\n",
       "      <th>Tags</th>\n",
       "      <th>CreationDate</th>\n",
       "      <th>Y</th>\n",
       "    </tr>\n",
       "  </thead>\n",
       "  <tbody>\n",
       "    <tr>\n",
       "      <th>0</th>\n",
       "      <td>34552656</td>\n",
       "      <td>Java: Repeat Task Every Random Seconds</td>\n",
       "      <td>&lt;p&gt;I'm already familiar with repeating tasks e...</td>\n",
       "      <td>&lt;java&gt;&lt;repeat&gt;</td>\n",
       "      <td>2016-01-01 00:21:59</td>\n",
       "      <td>LQ_CLOSE</td>\n",
       "    </tr>\n",
       "    <tr>\n",
       "      <th>1</th>\n",
       "      <td>34552974</td>\n",
       "      <td>How to get all the child records from differen...</td>\n",
       "      <td>I am having 4 different tables like \\r\\nselect...</td>\n",
       "      <td>&lt;sql&gt;&lt;sql-server&gt;</td>\n",
       "      <td>2016-01-01 01:44:52</td>\n",
       "      <td>LQ_EDIT</td>\n",
       "    </tr>\n",
       "    <tr>\n",
       "      <th>2</th>\n",
       "      <td>34553034</td>\n",
       "      <td>Why are Java Optionals immutable?</td>\n",
       "      <td>&lt;p&gt;I'd like to understand why Java 8 Optionals...</td>\n",
       "      <td>&lt;java&gt;&lt;optional&gt;</td>\n",
       "      <td>2016-01-01 02:03:20</td>\n",
       "      <td>HQ</td>\n",
       "    </tr>\n",
       "    <tr>\n",
       "      <th>3</th>\n",
       "      <td>34553174</td>\n",
       "      <td>Text Overlay Image with Darkened Opacity React...</td>\n",
       "      <td>&lt;p&gt;I am attempting to overlay a title over an ...</td>\n",
       "      <td>&lt;javascript&gt;&lt;image&gt;&lt;overlay&gt;&lt;react-native&gt;&lt;opa...</td>\n",
       "      <td>2016-01-01 02:48:24</td>\n",
       "      <td>HQ</td>\n",
       "    </tr>\n",
       "    <tr>\n",
       "      <th>4</th>\n",
       "      <td>34553318</td>\n",
       "      <td>Why ternary operator in swift is so picky?</td>\n",
       "      <td>&lt;p&gt;The question is very simple, but I just cou...</td>\n",
       "      <td>&lt;swift&gt;&lt;operators&gt;&lt;whitespace&gt;&lt;ternary-operato...</td>\n",
       "      <td>2016-01-01 03:30:17</td>\n",
       "      <td>HQ</td>\n",
       "    </tr>\n",
       "  </tbody>\n",
       "</table>\n",
       "</div>"
      ],
      "text/plain": [
       "         Id                                              Title  \\\n",
       "0  34552656             Java: Repeat Task Every Random Seconds   \n",
       "1  34552974  How to get all the child records from differen...   \n",
       "2  34553034                  Why are Java Optionals immutable?   \n",
       "3  34553174  Text Overlay Image with Darkened Opacity React...   \n",
       "4  34553318         Why ternary operator in swift is so picky?   \n",
       "\n",
       "                                                Body  \\\n",
       "0  <p>I'm already familiar with repeating tasks e...   \n",
       "1  I am having 4 different tables like \\r\\nselect...   \n",
       "2  <p>I'd like to understand why Java 8 Optionals...   \n",
       "3  <p>I am attempting to overlay a title over an ...   \n",
       "4  <p>The question is very simple, but I just cou...   \n",
       "\n",
       "                                                Tags         CreationDate  \\\n",
       "0                                     <java><repeat>  2016-01-01 00:21:59   \n",
       "1                                  <sql><sql-server>  2016-01-01 01:44:52   \n",
       "2                                   <java><optional>  2016-01-01 02:03:20   \n",
       "3  <javascript><image><overlay><react-native><opa...  2016-01-01 02:48:24   \n",
       "4  <swift><operators><whitespace><ternary-operato...  2016-01-01 03:30:17   \n",
       "\n",
       "          Y  \n",
       "0  LQ_CLOSE  \n",
       "1   LQ_EDIT  \n",
       "2        HQ  \n",
       "3        HQ  \n",
       "4        HQ  "
      ]
     },
     "execution_count": 121,
     "metadata": {},
     "output_type": "execute_result"
    }
   ],
   "source": [
    "df.head()"
   ]
  },
  {
   "cell_type": "code",
   "execution_count": 122,
   "metadata": {},
   "outputs": [
    {
     "name": "stdout",
     "output_type": "stream",
     "text": [
      "<class 'pandas.core.frame.DataFrame'>\n",
      "RangeIndex: 60000 entries, 0 to 59999\n",
      "Data columns (total 6 columns):\n",
      " #   Column        Non-Null Count  Dtype \n",
      "---  ------        --------------  ----- \n",
      " 0   Id            60000 non-null  int64 \n",
      " 1   Title         60000 non-null  object\n",
      " 2   Body          60000 non-null  object\n",
      " 3   Tags          60000 non-null  object\n",
      " 4   CreationDate  60000 non-null  object\n",
      " 5   Y             60000 non-null  object\n",
      "dtypes: int64(1), object(5)\n",
      "memory usage: 2.7+ MB\n"
     ]
    }
   ],
   "source": [
    "df.info()"
   ]
  },
  {
   "cell_type": "markdown",
   "metadata": {},
   "source": [
    "A partir disso, vemos: \n",
    "\n",
    "- Não existem dados NaN ( que representam valores numéricos indefinidos ou irrepresentáveis )\n",
    "\n",
    "- Existem 6 colunas, e somente A 'Id' possui dtype numérico"
   ]
  },
  {
   "cell_type": "markdown",
   "metadata": {},
   "source": [
    "### Aplicando algumas transformações"
   ]
  },
  {
   "cell_type": "markdown",
   "metadata": {},
   "source": [
    "- Primeiro, vamos transformar os itens da coluna 'CreationDate' para o dtype adequado"
   ]
  },
  {
   "cell_type": "code",
   "execution_count": 123,
   "metadata": {},
   "outputs": [
    {
     "name": "stdout",
     "output_type": "stream",
     "text": [
      "<class 'pandas.core.frame.DataFrame'>\n",
      "RangeIndex: 60000 entries, 0 to 59999\n",
      "Data columns (total 6 columns):\n",
      " #   Column        Non-Null Count  Dtype         \n",
      "---  ------        --------------  -----         \n",
      " 0   Id            60000 non-null  int64         \n",
      " 1   Title         60000 non-null  object        \n",
      " 2   Body          60000 non-null  object        \n",
      " 3   Tags          60000 non-null  object        \n",
      " 4   CreationDate  60000 non-null  datetime64[ns]\n",
      " 5   Y             60000 non-null  object        \n",
      "dtypes: datetime64[ns](1), int64(1), object(4)\n",
      "memory usage: 2.7+ MB\n"
     ]
    }
   ],
   "source": [
    "df['CreationDate'] = pd.to_datetime(df['CreationDate'])\n",
    "df.info()"
   ]
  },
  {
   "cell_type": "markdown",
   "metadata": {},
   "source": [
    "- Criarei uma coluna para receber o ano em que a pergunta foi feito"
   ]
  },
  {
   "cell_type": "code",
   "execution_count": 124,
   "metadata": {},
   "outputs": [
    {
     "data": {
      "text/html": [
       "<div>\n",
       "<style scoped>\n",
       "    .dataframe tbody tr th:only-of-type {\n",
       "        vertical-align: middle;\n",
       "    }\n",
       "\n",
       "    .dataframe tbody tr th {\n",
       "        vertical-align: top;\n",
       "    }\n",
       "\n",
       "    .dataframe thead th {\n",
       "        text-align: right;\n",
       "    }\n",
       "</style>\n",
       "<table border=\"1\" class=\"dataframe\">\n",
       "  <thead>\n",
       "    <tr style=\"text-align: right;\">\n",
       "      <th></th>\n",
       "      <th>Id</th>\n",
       "      <th>Title</th>\n",
       "      <th>Body</th>\n",
       "      <th>Tags</th>\n",
       "      <th>CreationDate</th>\n",
       "      <th>Y</th>\n",
       "      <th>year</th>\n",
       "    </tr>\n",
       "  </thead>\n",
       "  <tbody>\n",
       "    <tr>\n",
       "      <th>0</th>\n",
       "      <td>34552656</td>\n",
       "      <td>Java: Repeat Task Every Random Seconds</td>\n",
       "      <td>&lt;p&gt;I'm already familiar with repeating tasks e...</td>\n",
       "      <td>&lt;java&gt;&lt;repeat&gt;</td>\n",
       "      <td>2016-01-01 00:21:59</td>\n",
       "      <td>LQ_CLOSE</td>\n",
       "      <td>2016</td>\n",
       "    </tr>\n",
       "    <tr>\n",
       "      <th>1</th>\n",
       "      <td>34552974</td>\n",
       "      <td>How to get all the child records from differen...</td>\n",
       "      <td>I am having 4 different tables like \\r\\nselect...</td>\n",
       "      <td>&lt;sql&gt;&lt;sql-server&gt;</td>\n",
       "      <td>2016-01-01 01:44:52</td>\n",
       "      <td>LQ_EDIT</td>\n",
       "      <td>2016</td>\n",
       "    </tr>\n",
       "    <tr>\n",
       "      <th>2</th>\n",
       "      <td>34553034</td>\n",
       "      <td>Why are Java Optionals immutable?</td>\n",
       "      <td>&lt;p&gt;I'd like to understand why Java 8 Optionals...</td>\n",
       "      <td>&lt;java&gt;&lt;optional&gt;</td>\n",
       "      <td>2016-01-01 02:03:20</td>\n",
       "      <td>HQ</td>\n",
       "      <td>2016</td>\n",
       "    </tr>\n",
       "    <tr>\n",
       "      <th>3</th>\n",
       "      <td>34553174</td>\n",
       "      <td>Text Overlay Image with Darkened Opacity React...</td>\n",
       "      <td>&lt;p&gt;I am attempting to overlay a title over an ...</td>\n",
       "      <td>&lt;javascript&gt;&lt;image&gt;&lt;overlay&gt;&lt;react-native&gt;&lt;opa...</td>\n",
       "      <td>2016-01-01 02:48:24</td>\n",
       "      <td>HQ</td>\n",
       "      <td>2016</td>\n",
       "    </tr>\n",
       "    <tr>\n",
       "      <th>4</th>\n",
       "      <td>34553318</td>\n",
       "      <td>Why ternary operator in swift is so picky?</td>\n",
       "      <td>&lt;p&gt;The question is very simple, but I just cou...</td>\n",
       "      <td>&lt;swift&gt;&lt;operators&gt;&lt;whitespace&gt;&lt;ternary-operato...</td>\n",
       "      <td>2016-01-01 03:30:17</td>\n",
       "      <td>HQ</td>\n",
       "      <td>2016</td>\n",
       "    </tr>\n",
       "  </tbody>\n",
       "</table>\n",
       "</div>"
      ],
      "text/plain": [
       "         Id                                              Title  \\\n",
       "0  34552656             Java: Repeat Task Every Random Seconds   \n",
       "1  34552974  How to get all the child records from differen...   \n",
       "2  34553034                  Why are Java Optionals immutable?   \n",
       "3  34553174  Text Overlay Image with Darkened Opacity React...   \n",
       "4  34553318         Why ternary operator in swift is so picky?   \n",
       "\n",
       "                                                Body  \\\n",
       "0  <p>I'm already familiar with repeating tasks e...   \n",
       "1  I am having 4 different tables like \\r\\nselect...   \n",
       "2  <p>I'd like to understand why Java 8 Optionals...   \n",
       "3  <p>I am attempting to overlay a title over an ...   \n",
       "4  <p>The question is very simple, but I just cou...   \n",
       "\n",
       "                                                Tags        CreationDate  \\\n",
       "0                                     <java><repeat> 2016-01-01 00:21:59   \n",
       "1                                  <sql><sql-server> 2016-01-01 01:44:52   \n",
       "2                                   <java><optional> 2016-01-01 02:03:20   \n",
       "3  <javascript><image><overlay><react-native><opa... 2016-01-01 02:48:24   \n",
       "4  <swift><operators><whitespace><ternary-operato... 2016-01-01 03:30:17   \n",
       "\n",
       "          Y  year  \n",
       "0  LQ_CLOSE  2016  \n",
       "1   LQ_EDIT  2016  \n",
       "2        HQ  2016  \n",
       "3        HQ  2016  \n",
       "4        HQ  2016  "
      ]
     },
     "execution_count": 124,
     "metadata": {},
     "output_type": "execute_result"
    }
   ],
   "source": [
    "df['year'] = df['CreationDate'].dt.year\n",
    "df.head()"
   ]
  },
  {
   "cell_type": "markdown",
   "metadata": {},
   "source": [
    "### Agora aplicando alguns pré-processamentos de Data"
   ]
  },
  {
   "cell_type": "code",
   "execution_count": 125,
   "metadata": {},
   "outputs": [],
   "source": [
    "df['Body'] = df['Title'] + \" \" + df['Body']"
   ]
  },
  {
   "cell_type": "code",
   "execution_count": 126,
   "metadata": {},
   "outputs": [
    {
     "data": {
      "text/html": [
       "<div>\n",
       "<style scoped>\n",
       "    .dataframe tbody tr th:only-of-type {\n",
       "        vertical-align: middle;\n",
       "    }\n",
       "\n",
       "    .dataframe tbody tr th {\n",
       "        vertical-align: top;\n",
       "    }\n",
       "\n",
       "    .dataframe thead th {\n",
       "        text-align: right;\n",
       "    }\n",
       "</style>\n",
       "<table border=\"1\" class=\"dataframe\">\n",
       "  <thead>\n",
       "    <tr style=\"text-align: right;\">\n",
       "      <th></th>\n",
       "      <th>Id</th>\n",
       "      <th>Title</th>\n",
       "      <th>Body</th>\n",
       "      <th>Tags</th>\n",
       "      <th>CreationDate</th>\n",
       "      <th>Y</th>\n",
       "      <th>year</th>\n",
       "    </tr>\n",
       "  </thead>\n",
       "  <tbody>\n",
       "    <tr>\n",
       "      <th>0</th>\n",
       "      <td>34552656</td>\n",
       "      <td>Java: Repeat Task Every Random Seconds</td>\n",
       "      <td>java repeat task every random seconds pim alre...</td>\n",
       "      <td>&lt;java&gt;&lt;repeat&gt;</td>\n",
       "      <td>2016-01-01 00:21:59</td>\n",
       "      <td>LQ_CLOSE</td>\n",
       "      <td>2016</td>\n",
       "    </tr>\n",
       "    <tr>\n",
       "      <th>1</th>\n",
       "      <td>34552974</td>\n",
       "      <td>How to get all the child records from differen...</td>\n",
       "      <td>how to get all the child records from differen...</td>\n",
       "      <td>&lt;sql&gt;&lt;sql-server&gt;</td>\n",
       "      <td>2016-01-01 01:44:52</td>\n",
       "      <td>LQ_EDIT</td>\n",
       "      <td>2016</td>\n",
       "    </tr>\n",
       "    <tr>\n",
       "      <th>2</th>\n",
       "      <td>34553034</td>\n",
       "      <td>Why are Java Optionals immutable?</td>\n",
       "      <td>why are java optionals immutable pid like to u...</td>\n",
       "      <td>&lt;java&gt;&lt;optional&gt;</td>\n",
       "      <td>2016-01-01 02:03:20</td>\n",
       "      <td>HQ</td>\n",
       "      <td>2016</td>\n",
       "    </tr>\n",
       "    <tr>\n",
       "      <th>3</th>\n",
       "      <td>34553174</td>\n",
       "      <td>Text Overlay Image with Darkened Opacity React...</td>\n",
       "      <td>text overlay image with darkened opacity react...</td>\n",
       "      <td>&lt;javascript&gt;&lt;image&gt;&lt;overlay&gt;&lt;react-native&gt;&lt;opa...</td>\n",
       "      <td>2016-01-01 02:48:24</td>\n",
       "      <td>HQ</td>\n",
       "      <td>2016</td>\n",
       "    </tr>\n",
       "    <tr>\n",
       "      <th>4</th>\n",
       "      <td>34553318</td>\n",
       "      <td>Why ternary operator in swift is so picky?</td>\n",
       "      <td>why ternary operator in swift is so picky pthe...</td>\n",
       "      <td>&lt;swift&gt;&lt;operators&gt;&lt;whitespace&gt;&lt;ternary-operato...</td>\n",
       "      <td>2016-01-01 03:30:17</td>\n",
       "      <td>HQ</td>\n",
       "      <td>2016</td>\n",
       "    </tr>\n",
       "  </tbody>\n",
       "</table>\n",
       "</div>"
      ],
      "text/plain": [
       "         Id                                              Title  \\\n",
       "0  34552656             Java: Repeat Task Every Random Seconds   \n",
       "1  34552974  How to get all the child records from differen...   \n",
       "2  34553034                  Why are Java Optionals immutable?   \n",
       "3  34553174  Text Overlay Image with Darkened Opacity React...   \n",
       "4  34553318         Why ternary operator in swift is so picky?   \n",
       "\n",
       "                                                Body  \\\n",
       "0  java repeat task every random seconds pim alre...   \n",
       "1  how to get all the child records from differen...   \n",
       "2  why are java optionals immutable pid like to u...   \n",
       "3  text overlay image with darkened opacity react...   \n",
       "4  why ternary operator in swift is so picky pthe...   \n",
       "\n",
       "                                                Tags        CreationDate  \\\n",
       "0                                     <java><repeat> 2016-01-01 00:21:59   \n",
       "1                                  <sql><sql-server> 2016-01-01 01:44:52   \n",
       "2                                   <java><optional> 2016-01-01 02:03:20   \n",
       "3  <javascript><image><overlay><react-native><opa... 2016-01-01 02:48:24   \n",
       "4  <swift><operators><whitespace><ternary-operato... 2016-01-01 03:30:17   \n",
       "\n",
       "          Y  year  \n",
       "0  LQ_CLOSE  2016  \n",
       "1   LQ_EDIT  2016  \n",
       "2        HQ  2016  \n",
       "3        HQ  2016  \n",
       "4        HQ  2016  "
      ]
     },
     "execution_count": 126,
     "metadata": {},
     "output_type": "execute_result"
    }
   ],
   "source": [
    "# Clean the data\n",
    "def clean_text(text):\n",
    "    text = text.lower()\n",
    "    text = re.sub(r'[^(a-zA-Z)\\s]','', text)\n",
    "    return text\n",
    "\n",
    "df['Body'] = df['Body'].apply(clean_text)\n",
    "df.head()"
   ]
  },
  {
   "cell_type": "markdown",
   "metadata": {},
   "source": [
    "Agora, vou remover as 'stopwords' ou palavras vazias:"
   ]
  },
  {
   "cell_type": "code",
   "execution_count": 127,
   "metadata": {},
   "outputs": [
    {
     "data": {
      "text/html": [
       "<div>\n",
       "<style scoped>\n",
       "    .dataframe tbody tr th:only-of-type {\n",
       "        vertical-align: middle;\n",
       "    }\n",
       "\n",
       "    .dataframe tbody tr th {\n",
       "        vertical-align: top;\n",
       "    }\n",
       "\n",
       "    .dataframe thead th {\n",
       "        text-align: right;\n",
       "    }\n",
       "</style>\n",
       "<table border=\"1\" class=\"dataframe\">\n",
       "  <thead>\n",
       "    <tr style=\"text-align: right;\">\n",
       "      <th></th>\n",
       "      <th>Id</th>\n",
       "      <th>Title</th>\n",
       "      <th>Body</th>\n",
       "      <th>Tags</th>\n",
       "      <th>CreationDate</th>\n",
       "      <th>Y</th>\n",
       "      <th>year</th>\n",
       "    </tr>\n",
       "  </thead>\n",
       "  <tbody>\n",
       "    <tr>\n",
       "      <th>0</th>\n",
       "      <td>34552656</td>\n",
       "      <td>Java: Repeat Task Every Random Seconds</td>\n",
       "      <td>java repeat task every random seconds pim alre...</td>\n",
       "      <td>&lt;java&gt;&lt;repeat&gt;</td>\n",
       "      <td>2016-01-01 00:21:59</td>\n",
       "      <td>LQ_CLOSE</td>\n",
       "      <td>2016</td>\n",
       "    </tr>\n",
       "    <tr>\n",
       "      <th>1</th>\n",
       "      <td>34552974</td>\n",
       "      <td>How to get all the child records from differen...</td>\n",
       "      <td>get child records different tables based given...</td>\n",
       "      <td>&lt;sql&gt;&lt;sql-server&gt;</td>\n",
       "      <td>2016-01-01 01:44:52</td>\n",
       "      <td>LQ_EDIT</td>\n",
       "      <td>2016</td>\n",
       "    </tr>\n",
       "    <tr>\n",
       "      <th>2</th>\n",
       "      <td>34553034</td>\n",
       "      <td>Why are Java Optionals immutable?</td>\n",
       "      <td>java optionals immutable pid like understand j...</td>\n",
       "      <td>&lt;java&gt;&lt;optional&gt;</td>\n",
       "      <td>2016-01-01 02:03:20</td>\n",
       "      <td>HQ</td>\n",
       "      <td>2016</td>\n",
       "    </tr>\n",
       "    <tr>\n",
       "      <th>3</th>\n",
       "      <td>34553174</td>\n",
       "      <td>Text Overlay Image with Darkened Opacity React...</td>\n",
       "      <td>text overlay image darkened opacity react nati...</td>\n",
       "      <td>&lt;javascript&gt;&lt;image&gt;&lt;overlay&gt;&lt;react-native&gt;&lt;opa...</td>\n",
       "      <td>2016-01-01 02:48:24</td>\n",
       "      <td>HQ</td>\n",
       "      <td>2016</td>\n",
       "    </tr>\n",
       "    <tr>\n",
       "      <th>4</th>\n",
       "      <td>34553318</td>\n",
       "      <td>Why ternary operator in swift is so picky?</td>\n",
       "      <td>ternary operator swift picky pthe question sim...</td>\n",
       "      <td>&lt;swift&gt;&lt;operators&gt;&lt;whitespace&gt;&lt;ternary-operato...</td>\n",
       "      <td>2016-01-01 03:30:17</td>\n",
       "      <td>HQ</td>\n",
       "      <td>2016</td>\n",
       "    </tr>\n",
       "  </tbody>\n",
       "</table>\n",
       "</div>"
      ],
      "text/plain": [
       "         Id                                              Title  \\\n",
       "0  34552656             Java: Repeat Task Every Random Seconds   \n",
       "1  34552974  How to get all the child records from differen...   \n",
       "2  34553034                  Why are Java Optionals immutable?   \n",
       "3  34553174  Text Overlay Image with Darkened Opacity React...   \n",
       "4  34553318         Why ternary operator in swift is so picky?   \n",
       "\n",
       "                                                Body  \\\n",
       "0  java repeat task every random seconds pim alre...   \n",
       "1  get child records different tables based given...   \n",
       "2  java optionals immutable pid like understand j...   \n",
       "3  text overlay image darkened opacity react nati...   \n",
       "4  ternary operator swift picky pthe question sim...   \n",
       "\n",
       "                                                Tags        CreationDate  \\\n",
       "0                                     <java><repeat> 2016-01-01 00:21:59   \n",
       "1                                  <sql><sql-server> 2016-01-01 01:44:52   \n",
       "2                                   <java><optional> 2016-01-01 02:03:20   \n",
       "3  <javascript><image><overlay><react-native><opa... 2016-01-01 02:48:24   \n",
       "4  <swift><operators><whitespace><ternary-operato... 2016-01-01 03:30:17   \n",
       "\n",
       "          Y  year  \n",
       "0  LQ_CLOSE  2016  \n",
       "1   LQ_EDIT  2016  \n",
       "2        HQ  2016  \n",
       "3        HQ  2016  \n",
       "4        HQ  2016  "
      ]
     },
     "execution_count": 127,
     "metadata": {},
     "output_type": "execute_result"
    }
   ],
   "source": [
    "#def remove_stopword\n",
    "from nltk.corpus import stopwords \n",
    "from nltk.tokenize import word_tokenize\n",
    "import nltk\n",
    "  \n",
    "example_sent = \"This is a sample sentence, showing off the stop words filtration.\"  #Esta é uma frase exemplo, mostrando a filtragem das stop words\n",
    "stop_words = set(stopwords.words('english')) \n",
    "\n",
    "def remove_stopword(words):\n",
    "    list_clean = [w for w in words.split(' ') if not w in stop_words]\n",
    "    return ' '.join(list_clean)\n",
    "\n",
    "df['Body'] = df['Body'].apply(remove_stopword)\n",
    "df.head()"
   ]
  },
  {
   "cell_type": "markdown",
   "metadata": {},
   "source": [
    "## Visualizando"
   ]
  },
  {
   "cell_type": "markdown",
   "metadata": {},
   "source": [
    "- Vamos dar uma olhada nas questões feitas por ano"
   ]
  },
  {
   "cell_type": "code",
   "execution_count": 128,
   "metadata": {},
   "outputs": [
    {
     "data": {
      "text/html": [
       "<div>\n",
       "<style scoped>\n",
       "    .dataframe tbody tr th:only-of-type {\n",
       "        vertical-align: middle;\n",
       "    }\n",
       "\n",
       "    .dataframe tbody tr th {\n",
       "        vertical-align: top;\n",
       "    }\n",
       "\n",
       "    .dataframe thead th {\n",
       "        text-align: right;\n",
       "    }\n",
       "</style>\n",
       "<table border=\"1\" class=\"dataframe\">\n",
       "  <thead>\n",
       "    <tr style=\"text-align: right;\">\n",
       "      <th></th>\n",
       "      <th>year</th>\n",
       "      <th>counts</th>\n",
       "    </tr>\n",
       "  </thead>\n",
       "  <tbody>\n",
       "    <tr>\n",
       "      <th>0</th>\n",
       "      <td>2016</td>\n",
       "      <td>20343</td>\n",
       "    </tr>\n",
       "    <tr>\n",
       "      <th>1</th>\n",
       "      <td>2017</td>\n",
       "      <td>16104</td>\n",
       "    </tr>\n",
       "    <tr>\n",
       "      <th>2</th>\n",
       "      <td>2018</td>\n",
       "      <td>13811</td>\n",
       "    </tr>\n",
       "    <tr>\n",
       "      <th>3</th>\n",
       "      <td>2019</td>\n",
       "      <td>8606</td>\n",
       "    </tr>\n",
       "    <tr>\n",
       "      <th>4</th>\n",
       "      <td>2020</td>\n",
       "      <td>1136</td>\n",
       "    </tr>\n",
       "  </tbody>\n",
       "</table>\n",
       "</div>"
      ],
      "text/plain": [
       "   year  counts\n",
       "0  2016   20343\n",
       "1  2017   16104\n",
       "2  2018   13811\n",
       "3  2019    8606\n",
       "4  2020    1136"
      ]
     },
     "execution_count": 128,
     "metadata": {},
     "output_type": "execute_result"
    }
   ],
   "source": [
    "df1 = df.groupby(['year']).size().reset_index(name='counts')\n",
    "df1.head()"
   ]
  },
  {
   "cell_type": "code",
   "execution_count": 129,
   "metadata": {},
   "outputs": [
    {
     "data": {
      "text/plain": [
       "Text(0.5, 1.0, 'Perguntas Stack Overflow')"
      ]
     },
     "execution_count": 129,
     "metadata": {},
     "output_type": "execute_result"
    },
    {
     "data": {
      "image/png": "[encoded data removed]",
      "text/plain": [
       "<Figure size 1080x720 with 1 Axes>"
      ]
     },
     "metadata": {
      "needs_background": "light"
     },
     "output_type": "display_data"
    }
   ],
   "source": [
    "# visualização\n",
    "plt.figure(figsize=(15,10))\n",
    "sns.barplot(x=df1['year'], y=df1['counts'])\n",
    "plt.xticks(rotation= 45)\n",
    "plt.xlabel('Anos')\n",
    "plt.ylabel('Quantidade')\n",
    "plt.title('Perguntas Stack Overflow')"
   ]
  },
  {
   "cell_type": "markdown",
   "metadata": {},
   "source": [
    "- Vamos agora visualizar a quantidade de perguntas por classificação"
   ]
  },
  {
   "cell_type": "code",
   "execution_count": 130,
   "metadata": {},
   "outputs": [
    {
     "data": {
      "text/html": [
       "<div>\n",
       "<style scoped>\n",
       "    .dataframe tbody tr th:only-of-type {\n",
       "        vertical-align: middle;\n",
       "    }\n",
       "\n",
       "    .dataframe tbody tr th {\n",
       "        vertical-align: top;\n",
       "    }\n",
       "\n",
       "    .dataframe thead th {\n",
       "        text-align: right;\n",
       "    }\n",
       "</style>\n",
       "<table border=\"1\" class=\"dataframe\">\n",
       "  <thead>\n",
       "    <tr style=\"text-align: right;\">\n",
       "      <th></th>\n",
       "      <th>Y</th>\n",
       "      <th>counts</th>\n",
       "    </tr>\n",
       "  </thead>\n",
       "  <tbody>\n",
       "    <tr>\n",
       "      <th>0</th>\n",
       "      <td>HQ</td>\n",
       "      <td>20000</td>\n",
       "    </tr>\n",
       "    <tr>\n",
       "      <th>1</th>\n",
       "      <td>LQ_CLOSE</td>\n",
       "      <td>20000</td>\n",
       "    </tr>\n",
       "    <tr>\n",
       "      <th>2</th>\n",
       "      <td>LQ_EDIT</td>\n",
       "      <td>20000</td>\n",
       "    </tr>\n",
       "  </tbody>\n",
       "</table>\n",
       "</div>"
      ],
      "text/plain": [
       "          Y  counts\n",
       "0        HQ   20000\n",
       "1  LQ_CLOSE   20000\n",
       "2   LQ_EDIT   20000"
      ]
     },
     "execution_count": 130,
     "metadata": {},
     "output_type": "execute_result"
    }
   ],
   "source": [
    "df1 = df.groupby(['Y']).size().reset_index(name='counts')\n",
    "df1.head()"
   ]
  },
  {
   "cell_type": "code",
   "execution_count": 131,
   "metadata": {},
   "outputs": [
    {
     "data": {
      "text/plain": [
       "Text(0.5, 1.0, 'Quantidade de perguntas por classificação')"
      ]
     },
     "execution_count": 131,
     "metadata": {},
     "output_type": "execute_result"
    },
    {
     "data": {
      "image/png": "[encoded data removed]",
      "text/plain": [
       "<Figure size 1080x720 with 1 Axes>"
      ]
     },
     "metadata": {
      "needs_background": "light"
     },
     "output_type": "display_data"
    }
   ],
   "source": [
    "#visualização\n",
    "plt.figure(figsize=(15,10))\n",
    "sns.barplot(x=df1['Y'], y=df1['counts'])\n",
    "plt.xticks(rotation= 45)\n",
    "plt.xlabel('Classificação')\n",
    "plt.ylabel('Quantidade')\n",
    "plt.title('Quantidade de perguntas por classificação')"
   ]
  },
  {
   "cell_type": "markdown",
   "metadata": {},
   "source": [
    "## Transformando o Dataset para Modelar"
   ]
  },
  {
   "cell_type": "markdown",
   "metadata": {},
   "source": [
    "- Nosso primeiro modelo terá como objetivo resolver um problema de classificação\n",
    "- Para resolver essa questão, deveremos criar um modelo que consiga, com precisão, definir em qual categoria uma questão deverá está com base nos outros elementos"
   ]
  },
  {
   "cell_type": "markdown",
   "metadata": {},
   "source": [
    "- Primeiro, dividirei o dataset em dois: Train e Test\n",
    "    - Servirá para, ao fazer a modelagem, poder testar o modelo em uma parte do dataset que não foi utilizado para a modelagem\n",
    "- Depois, transformarei os elementos das coluna 'body'(corpo) em vetores"
   ]
  },
  {
   "cell_type": "code",
   "execution_count": 132,
   "metadata": {},
   "outputs": [
    {
     "name": "stdout",
     "output_type": "stream",
     "text": [
      "len(train)=47890; len(test)=12110\n"
     ]
    }
   ],
   "source": [
    "N = len(data)\n",
    "TRAIN_PERC = 0.8\n",
    "ind_train = np.random.rand(N) < TRAIN_PERC\n",
    "train, test = df[ind_train], df[~ind_train]\n",
    "print(f'len(train)={len(train)}; len(test)={len(test)}')"
   ]
  },
  {
   "cell_type": "code",
   "execution_count": 133,
   "metadata": {},
   "outputs": [
    {
     "data": {
      "text/plain": [
       "(47890, 354390)"
      ]
     },
     "execution_count": 133,
     "metadata": {},
     "output_type": "execute_result"
    }
   ],
   "source": [
    "from sklearn.feature_extraction.text import CountVectorizer, TfidfVectorizer, TfidfTransformer\n",
    "count_vect = CountVectorizer()\n",
    "X_train_counts = count_vect.fit_transform(train.Body)\n",
    "X_train_counts.shape"
   ]
  },
  {
   "cell_type": "code",
   "execution_count": 134,
   "metadata": {},
   "outputs": [
    {
     "data": {
      "text/plain": [
       "(12110, 354390)"
      ]
     },
     "execution_count": 134,
     "metadata": {},
     "output_type": "execute_result"
    }
   ],
   "source": [
    "X_test_counts = count_vect.transform(test.Body)\n",
    "X_test_counts.shape"
   ]
  },
  {
   "cell_type": "code",
   "execution_count": 138,
   "metadata": {},
   "outputs": [
    {
     "data": {
      "text/plain": [
       "(47890, 354390)"
      ]
     },
     "execution_count": 138,
     "metadata": {},
     "output_type": "execute_result"
    }
   ],
   "source": [
    "tfidf_transformer = TfidfTransformer()\n",
    "X_train_tfidf = tfidf_transformer.fit_transform(X_train_counts)\n",
    "X_train_tfidf.shape\n"
   ]
  },
  {
   "cell_type": "code",
   "execution_count": 139,
   "metadata": {},
   "outputs": [
    {
     "data": {
      "text/plain": [
       "(12110, 354390)"
      ]
     },
     "execution_count": 139,
     "metadata": {},
     "output_type": "execute_result"
    }
   ],
   "source": [
    "X_test_tfidf = tfidf_transformer.transform(X_test_counts)\n",
    "X_test_tfidf.shape"
   ]
  },
  {
   "cell_type": "markdown",
   "metadata": {},
   "source": [
    "## Modelos"
   ]
  },
  {
   "cell_type": "code",
   "execution_count": 144,
   "metadata": {},
   "outputs": [],
   "source": [
    "clf_dict = {\n",
    "    'LogisticRegression': LogisticRegression,\n",
    "    'MultinomialNB': MultinomialNB,\n",
    "    'DecisionTreeClassifier': DecisionTreeClassifier,\n",
    "    'SGDClassifier': SGDClassifier,\n",
    "    'Perceptron': Perceptron,\n",
    "    'RidgeClassifier': RidgeClassifier,\n",
    "    'LinearSVC': LinearSVC,\n",
    "    'RandomForestClassifier': RandomForestClassifier,\n",
    "    'GradientBoostingClassifier': GradientBoostingClassifier,\n",
    "    #'MLPClassifier': MLPClassifier,\n",
    "}"
   ]
  },
  {
   "cell_type": "code",
   "execution_count": 145,
   "metadata": {},
   "outputs": [
    {
     "name": "stdout",
     "output_type": "stream",
     "text": [
      "Accuracy gets in 59.48s.\n",
      "Clf=LogisticRegression; Accuracy=0.877869529314616\n",
      "Accuracy gets in 0.25s.\n",
      "Clf=MultinomialNB; Accuracy=0.8034682080924855\n",
      "Accuracy gets in 8.45s.\n",
      "Clf=DecisionTreeClassifier; Accuracy=0.7620148637489678\n",
      "Accuracy gets in 0.93s.\n",
      "Clf=SGDClassifier; Accuracy=0.8593724194880265\n",
      "Accuracy gets in 0.61s.\n",
      "Clf=Perceptron; Accuracy=0.8548307184145334\n",
      "Accuracy gets in 3.42s.\n",
      "Clf=RidgeClassifier; Accuracy=0.8590421139554087\n",
      "Accuracy gets in 2.21s.\n",
      "Clf=LinearSVC; Accuracy=0.8805945499587118\n",
      "Accuracy gets in 2.04s.\n",
      "Clf=RandomForestClassifier; Accuracy=0.7521056977704377\n",
      "Accuracy gets in 219.8s.\n",
      "Clf=GradientBoostingClassifier; Accuracy=0.7992568125516102\n"
     ]
    }
   ],
   "source": [
    "def get_accuracy(clf, n_estimators=None, max_depth=None, learning_rate=None, max_iter=None):\n",
    "    start = time.time()\n",
    "    text_clf = clf(**params).fit(X_train_tfidf, train.Y)\n",
    "    predicted = text_clf.predict(X_test_tfidf)\n",
    "    print(f'Accuracy gets in {round(time.time()-start, 2)}s.')\n",
    "    return np.mean(predicted == test.Y)\n",
    "\n",
    "result_dict = {}\n",
    "\n",
    "for clf_str, clf_fn in clf_dict.items():\n",
    "    if clf_str == 'LogisticRegression':\n",
    "        params = {'max_iter': 200}\n",
    "    elif clf_str == 'RandomForestClassifier':\n",
    "        params = {'n_estimators': 50,\n",
    "                  'max_depth': 10}\n",
    "    elif clf_str == 'DecisionTreeClassifier':\n",
    "        params = {'max_depth': 10}\n",
    "    elif clf_str == 'GradientBoostingClassifier':\n",
    "        params = {'n_estimators': 50,\n",
    "                  'learning_rate': 0.1}\n",
    "    else:\n",
    "        params = {}\n",
    "    accuracy = get_accuracy(clf=clf_fn, **params)\n",
    "    result_dict[clf_str] = accuracy\n",
    "    print(f\"Clf={clf_str}; Accuracy={accuracy}\")"
   ]
  },
  {
   "cell_type": "code",
   "execution_count": 146,
   "metadata": {},
   "outputs": [
    {
     "data": {
      "text/plain": [
       "{'LinearSVC': 0.8805945499587118,\n",
       " 'LogisticRegression': 0.877869529314616,\n",
       " 'SGDClassifier': 0.8593724194880265,\n",
       " 'RidgeClassifier': 0.8590421139554087,\n",
       " 'Perceptron': 0.8548307184145334,\n",
       " 'MultinomialNB': 0.8034682080924855,\n",
       " 'GradientBoostingClassifier': 0.7992568125516102,\n",
       " 'DecisionTreeClassifier': 0.7620148637489678,\n",
       " 'RandomForestClassifier': 0.7521056977704377}"
      ]
     },
     "execution_count": 146,
     "metadata": {},
     "output_type": "execute_result"
    }
   ],
   "source": [
    "result_dict = {\n",
    "    k: v\n",
    "    for k, v in sorted(\n",
    "        result_dict.items(),\n",
    "        key=lambda x: x[1],\n",
    "        reverse=True\n",
    "    )\n",
    "}\n",
    "\n",
    "result_dict"
   ]
  },
  {
   "cell_type": "markdown",
   "metadata": {},
   "source": [
    "- Verificamos um percentual de 88% de precisão sem nenhum ajuste "
   ]
  },
  {
   "cell_type": "markdown",
   "metadata": {},
   "source": [
    "## Optimizando os modelos com ajustes de parâmetros"
   ]
  },
  {
   "cell_type": "code",
   "execution_count": 150,
   "metadata": {},
   "outputs": [],
   "source": [
    "DIM_Logistic = [\n",
    "    Integer(100, 400, name='max_iter')\n",
    "]\n",
    "\n",
    "DIM_SVC = [\n",
    "    Real(1e-5, 1, name='tol', prior='log-uniform'),\n",
    "    Real(0.1, 1.5, name='C', prior='log-uniform')\n",
    "]\n",
    "\n",
    "DIM_SGDC = [\n",
    "    Real(1e-5, 1e-2, name='alpha', prior='log-uniform')\n",
    "]\n",
    "\n",
    "DIM_RF = [\n",
    "    Integer(1, 100, name='n_estimators'),\n",
    "    Integer(5, 30, name='max_depth')\n",
    "]\n",
    "\n",
    "DIMS = {\n",
    "    'LogisticRegression': DIM_Logistic,\n",
    "    'LinearSVC': DIM_SVC,\n",
    "    'SGDClassifier': DIM_SGDC,\n",
    "    'RandomForestClassifier': DIM_RF\n",
    "}"
   ]
  },
  {
   "cell_type": "code",
   "execution_count": 151,
   "metadata": {},
   "outputs": [],
   "source": [
    "def optimize(clf_str='LinearSVC'):\n",
    "    \n",
    "    dimensions = DIMS[clf_str]\n",
    "    print(dimensions)\n",
    "    \n",
    "    @use_named_args(dimensions=dimensions)\n",
    "    def fitness(**params):\n",
    "        clf = clf_dict[clf_str](**params)\n",
    "        text_clf = clf.fit(X_train_tfidf, train.Y)\n",
    "        predicted = text_clf.predict(X_test_tfidf)\n",
    "        accuracy = np.mean(predicted == test.Y)\n",
    "        print(f'accuracy={accuracy} with params={params}')\n",
    "        return -1.0 * accuracy\n",
    "    \n",
    "    res = gp_minimize(func=fitness,\n",
    "                      dimensions=dimensions,\n",
    "                      acq_func='EI', # Expected Improvement.\n",
    "                      n_calls=10,\n",
    "                      random_state=666)\n",
    "    print(f'best accuracy={-1.0 * res.fun} with {res.x}')\n",
    "    return res"
   ]
  },
  {
   "cell_type": "code",
   "execution_count": 152,
   "metadata": {},
   "outputs": [
    {
     "name": "stdout",
     "output_type": "stream",
     "text": [
      "start optimizaton for LogisticRegression\n",
      "[Integer(low=100, high=400, prior='uniform', transform='identity')]\n",
      "accuracy=0.8776218001651528 with params={'max_iter': 131}\n",
      "accuracy=0.8777043765483071 with params={'max_iter': 163}\n",
      "accuracy=0.8781998348472337 with params={'max_iter': 139}\n",
      "accuracy=0.8777869529314616 with params={'max_iter': 325}\n",
      "accuracy=0.8777869529314616 with params={'max_iter': 201}\n",
      "accuracy=0.877869529314616 with params={'max_iter': 173}\n",
      "accuracy=0.8777043765483071 with params={'max_iter': 178}\n",
      "accuracy=0.8777869529314616 with params={'max_iter': 184}\n",
      "accuracy=0.8777869529314616 with params={'max_iter': 239}\n",
      "accuracy=0.877869529314616 with params={'max_iter': 170}\n",
      "best accuracy=0.8781998348472337 with [139]\n",
      "start optimizaton for LinearSVC\n",
      "[Real(low=1e-05, high=1, prior='log-uniform', transform='identity'), Real(low=0.1, high=1.5, prior='log-uniform', transform='identity')]\n",
      "accuracy=0.8738232865400496 with params={'tol': 3.2590317060358435e-05, 'C': 0.17723383193111547}\n",
      "accuracy=0.8812551610239472 with params={'tol': 4.414527342912078e-05, 'C': 0.7628816961239331}\n",
      "accuracy=0.8747316267547481 with params={'tol': 0.00047845573514670206, 'C': 0.19380701478072257}\n",
      "accuracy=0.8756399669694468 with params={'tol': 0.00019924054402314126, 'C': 0.21413112813185142}\n",
      "accuracy=0.8745664739884393 with params={'tol': 0.0020616191023600985, 'C': 0.1881485055702094}\n",
      "accuracy=0.8809248554913295 with params={'tol': 0.06844174269781644, 'C': 0.9211783872460952}\n",
      "accuracy=0.8766308835672998 with params={'tol': 0.0009713622714043581, 'C': 0.23559366117301345}\n",
      "accuracy=0.8813377374071015 with params={'tol': 5.9918414788335004e-05, 'C': 0.7310856330548163}\n",
      "accuracy=0.8805945499587118 with params={'tol': 0.045496473405299345, 'C': 1.0207519927651907}\n",
      "accuracy=0.8800990916597853 with params={'tol': 0.06871660898768098, 'C': 1.3215606065550862}\n",
      "best accuracy=0.8813377374071015 with [5.9918414788335004e-05, 0.7310856330548163]\n",
      "start optimizaton for SGDClassifier\n",
      "[Real(low=1e-05, high=0.01, prior='log-uniform', transform='identity')]\n",
      "accuracy=0.879851362510322 with params={'alpha': 2.031669923181096e-05}\n",
      "accuracy=0.8728323699421965 with params={'alpha': 4.3052494479948036e-05}\n",
      "accuracy=0.8786952931461602 with params={'alpha': 2.4374208772219314e-05}\n",
      "accuracy=0.7663914120561519 with params={'alpha': 0.0017823444328076245}\n",
      "accuracy=0.857720891824938 with params={'alpha': 0.0001018368738042549}\n",
      "accuracy=0.8696118909991742 with params={'alpha': 5.4078987915686634e-05}\n",
      "accuracy=0.8688687035507845 with params={'alpha': 6.020417803091192e-05}\n",
      "accuracy=0.8665565648224608 with params={'alpha': 6.974377878633414e-05}\n",
      "accuracy=0.8327828241123039 with params={'alpha': 0.00024463864226893333}\n",
      "accuracy=0.8705202312138728 with params={'alpha': 5.014212529363377e-05}\n",
      "best accuracy=0.879851362510322 with [2.031669923181096e-05]\n",
      "start optimizaton for RandomForestClassifier\n",
      "[Integer(low=1, high=100, prior='uniform', transform='identity'), Integer(low=5, high=30, prior='uniform', transform='identity')]\n",
      "accuracy=0.67233691164327 with params={'n_estimators': 11, 'max_depth': 10}\n",
      "accuracy=0.7307184145334434 with params={'n_estimators': 14, 'max_depth': 24}\n",
      "accuracy=0.7232865400495458 with params={'n_estimators': 34, 'max_depth': 11}\n",
      "accuracy=0.7510322047894302 with params={'n_estimators': 27, 'max_depth': 12}\n",
      "accuracy=0.738150289017341 with params={'n_estimators': 47, 'max_depth': 11}\n",
      "accuracy=0.7943022295623452 with params={'n_estimators': 77, 'max_depth': 25}\n",
      "accuracy=0.7535920726672172 with params={'n_estimators': 40, 'max_depth': 13}\n",
      "accuracy=0.682411230388109 with params={'n_estimators': 16, 'max_depth': 23}\n",
      "accuracy=0.8071841453344344 with params={'n_estimators': 73, 'max_depth': 26}\n",
      "accuracy=0.8122213047068538 with params={'n_estimators': 77, 'max_depth': 29}\n",
      "best accuracy=0.8122213047068538 with [77, 29]\n"
     ]
    }
   ],
   "source": [
    "res_dict = {}\n",
    "for clf_str, clf_dim in DIMS.items():\n",
    "    print(f'start optimizaton for {clf_str}')\n",
    "    res = optimize(clf_str=clf_str)\n",
    "    res_dict[clf_str] = res"
   ]
  },
  {
   "cell_type": "markdown",
   "metadata": {},
   "source": [
    "## Maior precisão por modelo e seus respectivos hyperparameters"
   ]
  },
  {
   "cell_type": "code",
   "execution_count": 153,
   "metadata": {},
   "outputs": [
    {
     "name": "stdout",
     "output_type": "stream",
     "text": [
      "clf=LogisticRegression\n",
      "best accuracy=0.8781998348472337\n",
      "best hyperparameters={'max_iter': 139}\n",
      "\n",
      "clf=LinearSVC\n",
      "best accuracy=0.8813377374071015\n",
      "best hyperparameters={'tol': 5.9918414788335004e-05, 'C': 0.7310856330548163}\n",
      "\n",
      "clf=SGDClassifier\n",
      "best accuracy=0.879851362510322\n",
      "best hyperparameters={'alpha': 2.031669923181096e-05}\n",
      "\n",
      "clf=RandomForestClassifier\n",
      "best accuracy=0.8122213047068538\n",
      "best hyperparameters={'n_estimators': 77, 'max_depth': 29}\n",
      "\n"
     ]
    }
   ],
   "source": [
    "for clf_str, res in res_dict.items():\n",
    "    hyperparameters_label = [hp.name for hp in DIMS[clf_str]]\n",
    "    best_hyperparameters = dict(zip(hyperparameters_label, res.x))\n",
    "    print(f'clf={clf_str}\\nbest accuracy={-res.fun}\\nbest hyperparameters={best_hyperparameters}\\n')"
   ]
  },
  {
   "cell_type": "markdown",
   "metadata": {},
   "source": [
    "# Conclusão"
   ]
  },
  {
   "cell_type": "markdown",
   "metadata": {},
   "source": [
    "- Foi obtido um percentual de 88% de precisão para a classificação das perguntas"
   ]
  },
  {
   "cell_type": "code",
   "execution_count": null,
   "metadata": {},
   "outputs": [],
   "source": []
  }
 ],
 "metadata": {
  "kernelspec": {
   "display_name": "Python 3",
   "language": "python",
   "name": "python3"
  },
  "language_info": {
   "codemirror_mode": {
    "name": "ipython",
    "version": 3
   },
   "file_extension": ".py",
   "mimetype": "text/x-python",
   "name": "python",
   "nbconvert_exporter": "python",
   "pygments_lexer": "ipython3",
   "version": "3.8.3"
  }
 },
 "nbformat": 4,
 "nbformat_minor": 4
}
