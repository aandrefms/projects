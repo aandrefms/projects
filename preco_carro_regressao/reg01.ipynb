{
 "cells": [
  {
   "cell_type": "code",
   "execution_count": 1,
   "metadata": {},
   "outputs": [],
   "source": [
    "import pandas as pd\n",
    "import numpy as np\n",
    "# import warnings\n",
    "import warnings\n",
    "import seaborn as sns\n",
    "import os\n",
    "import matplotlib.pyplot as plt\n",
    "\n",
    "\n",
    "# ignore warnings\n",
    "warnings.filterwarnings(\"ignore\")\n",
    "# Any results you write to the current directory are saved as output.\n",
    "\n",
    "# for Box-Cox Transformation\n",
    "from scipy import stats\n",
    "\n",
    "# for min_max scaling\n",
    "from mlxtend.preprocessing import minmax_scaling"
   ]
  },
  {
   "cell_type": "markdown",
   "metadata": {},
   "source": [
    "## Primeiros Passos"
   ]
  },
  {
   "cell_type": "markdown",
   "metadata": {},
   "source": [
    "- Este banco de dados possui informações sobre veículos usados (Preço, ano, modelo, marca, etc);\n",
    "- Usaremos esses dados para construir um modelo, através de aprendizado de máquina, capaz de prever o valor de um carro com base nas suas características"
   ]
  },
  {
   "cell_type": "markdown",
   "metadata": {},
   "source": [
    "### Importando os dados"
   ]
  },
  {
   "cell_type": "code",
   "execution_count": 2,
   "metadata": {},
   "outputs": [],
   "source": [
    "audi = pd.read_csv('./input/audi.csv')\n",
    "bmw = pd.read_csv('./input/bmw.csv')\n",
    "cclass = pd.read_csv('./input/cclass.csv')\n",
    "focus = pd.read_csv('./input/focus.csv')\n",
    "ford = pd.read_csv('./input/ford.csv')\n",
    "hyundi = pd.read_csv('./input/hyundi.csv')\n",
    "merc = pd.read_csv('./input/merc.csv')\n",
    "skoda = pd.read_csv('./input/skoda.csv')\n",
    "toyota = pd.read_csv('./input/toyota.csv')\n",
    "vauxhall =  pd.read_csv('./input/vauxhall.csv')\n",
    "vw = pd.read_csv('./input/vw.csv')"
   ]
  },
  {
   "cell_type": "markdown",
   "metadata": {},
   "source": [
    "### Limpeza e ajuste nos dados"
   ]
  },
  {
   "cell_type": "markdown",
   "metadata": {},
   "source": [
    "- Irei criar variáveis para receber o nome das colunas(pois existem colunas com pequenas diferenças no nome), além de variáveis para receber o nome de cada uma das marcas, afim de unir todos os bancos de dados em somente um."
   ]
  },
  {
   "cell_type": "code",
   "execution_count": 3,
   "metadata": {},
   "outputs": [],
   "source": [
    "brand = [audi, bmw, cclass, focus, ford, hyundi, merc, skoda, toyota, vauxhall, vw]\n",
    "brand1 = ['audi', 'bmw', 'cclass', 'focus', 'ford', 'hyundi', 'merc', 'skoda', 'toyota', 'vauxhall', 'vw']\n",
    "columns = ['model', 'year', 'price', 'transmission', 'mileage', 'fuelType', 'tax', 'mpg', 'engineSize']"
   ]
  },
  {
   "cell_type": "markdown",
   "metadata": {},
   "source": [
    "- Agora, incluirei dados que estão faltando e atribuirei o nome das colunas nos bancos de dados:"
   ]
  },
  {
   "cell_type": "code",
   "execution_count": 4,
   "metadata": {},
   "outputs": [],
   "source": [
    "cclass['tax'] = audi.tax.mean()\n",
    "cclass['mpg'] = audi.mpg.mean()\n",
    "focus['tax'] = bmw.tax.mean()\n",
    "focus['mpg'] = bmw.mpg.mean()\n",
    "cclass = cclass[columns]\n",
    "focus = focus[columns]"
   ]
  },
  {
   "cell_type": "markdown",
   "metadata": {},
   "source": [
    "- Então, criarei uma nova coluna que receberá a marca do automóvel em questão\n",
    "- Em seguida, unirei todos os bancos de dados"
   ]
  },
  {
   "cell_type": "code",
   "execution_count": 5,
   "metadata": {},
   "outputs": [],
   "source": [
    "for k, i in enumerate(brand):\n",
    "    i['brand'] = brand1[k]\n",
    "cclass['brand'] = 'cclass'\n",
    "focus['brand'] = 'focus'"
   ]
  },
  {
   "cell_type": "code",
   "execution_count": 6,
   "metadata": {},
   "outputs": [],
   "source": [
    "columns = ['model', 'year', 'price', 'transmission', 'mileage', 'fuelType', 'tax', 'mpg', 'engineSize', 'brand']\n",
    "for k, i in enumerate(brand):\n",
    "    i.columns = columns\n",
    "df = pd.concat(brand)"
   ]
  },
  {
   "cell_type": "markdown",
   "metadata": {},
   "source": [
    "- Vamos dar uma olhada no banco de dados:"
   ]
  },
  {
   "cell_type": "code",
   "execution_count": 7,
   "metadata": {},
   "outputs": [
    {
     "data": {
      "text/html": [
       "<div>\n",
       "<style scoped>\n",
       "    .dataframe tbody tr th:only-of-type {\n",
       "        vertical-align: middle;\n",
       "    }\n",
       "\n",
       "    .dataframe tbody tr th {\n",
       "        vertical-align: top;\n",
       "    }\n",
       "\n",
       "    .dataframe thead th {\n",
       "        text-align: right;\n",
       "    }\n",
       "</style>\n",
       "<table border=\"1\" class=\"dataframe\">\n",
       "  <thead>\n",
       "    <tr style=\"text-align: right;\">\n",
       "      <th></th>\n",
       "      <th>model</th>\n",
       "      <th>year</th>\n",
       "      <th>price</th>\n",
       "      <th>transmission</th>\n",
       "      <th>mileage</th>\n",
       "      <th>fuelType</th>\n",
       "      <th>tax</th>\n",
       "      <th>mpg</th>\n",
       "      <th>engineSize</th>\n",
       "      <th>brand</th>\n",
       "    </tr>\n",
       "  </thead>\n",
       "  <tbody>\n",
       "    <tr>\n",
       "      <th>0</th>\n",
       "      <td>A1</td>\n",
       "      <td>2017</td>\n",
       "      <td>12500</td>\n",
       "      <td>Manual</td>\n",
       "      <td>15735</td>\n",
       "      <td>Petrol</td>\n",
       "      <td>150.0</td>\n",
       "      <td>55.4</td>\n",
       "      <td>1.4</td>\n",
       "      <td>audi</td>\n",
       "    </tr>\n",
       "    <tr>\n",
       "      <th>1</th>\n",
       "      <td>A6</td>\n",
       "      <td>2016</td>\n",
       "      <td>16500</td>\n",
       "      <td>Automatic</td>\n",
       "      <td>36203</td>\n",
       "      <td>Diesel</td>\n",
       "      <td>20.0</td>\n",
       "      <td>64.2</td>\n",
       "      <td>2.0</td>\n",
       "      <td>audi</td>\n",
       "    </tr>\n",
       "    <tr>\n",
       "      <th>2</th>\n",
       "      <td>A1</td>\n",
       "      <td>2016</td>\n",
       "      <td>11000</td>\n",
       "      <td>Manual</td>\n",
       "      <td>29946</td>\n",
       "      <td>Petrol</td>\n",
       "      <td>30.0</td>\n",
       "      <td>55.4</td>\n",
       "      <td>1.4</td>\n",
       "      <td>audi</td>\n",
       "    </tr>\n",
       "    <tr>\n",
       "      <th>3</th>\n",
       "      <td>A4</td>\n",
       "      <td>2017</td>\n",
       "      <td>16800</td>\n",
       "      <td>Automatic</td>\n",
       "      <td>25952</td>\n",
       "      <td>Diesel</td>\n",
       "      <td>145.0</td>\n",
       "      <td>67.3</td>\n",
       "      <td>2.0</td>\n",
       "      <td>audi</td>\n",
       "    </tr>\n",
       "    <tr>\n",
       "      <th>4</th>\n",
       "      <td>A3</td>\n",
       "      <td>2019</td>\n",
       "      <td>17300</td>\n",
       "      <td>Manual</td>\n",
       "      <td>1998</td>\n",
       "      <td>Petrol</td>\n",
       "      <td>145.0</td>\n",
       "      <td>49.6</td>\n",
       "      <td>1.0</td>\n",
       "      <td>audi</td>\n",
       "    </tr>\n",
       "  </tbody>\n",
       "</table>\n",
       "</div>"
      ],
      "text/plain": [
       "  model  year  price transmission  mileage fuelType    tax   mpg  engineSize  \\\n",
       "0    A1  2017  12500       Manual    15735   Petrol  150.0  55.4         1.4   \n",
       "1    A6  2016  16500    Automatic    36203   Diesel   20.0  64.2         2.0   \n",
       "2    A1  2016  11000       Manual    29946   Petrol   30.0  55.4         1.4   \n",
       "3    A4  2017  16800    Automatic    25952   Diesel  145.0  67.3         2.0   \n",
       "4    A3  2019  17300       Manual     1998   Petrol  145.0  49.6         1.0   \n",
       "\n",
       "  brand  \n",
       "0  audi  \n",
       "1  audi  \n",
       "2  audi  \n",
       "3  audi  \n",
       "4  audi  "
      ]
     },
     "execution_count": 7,
     "metadata": {},
     "output_type": "execute_result"
    }
   ],
   "source": [
    "df.head()"
   ]
  },
  {
   "cell_type": "code",
   "execution_count": 8,
   "metadata": {},
   "outputs": [
    {
     "name": "stdout",
     "output_type": "stream",
     "text": [
      "<class 'pandas.core.frame.DataFrame'>\n",
      "Int64Index: 108540 entries, 0 to 15156\n",
      "Data columns (total 10 columns):\n",
      " #   Column        Non-Null Count   Dtype  \n",
      "---  ------        --------------   -----  \n",
      " 0   model         108540 non-null  object \n",
      " 1   year          108540 non-null  int64  \n",
      " 2   price         108540 non-null  int64  \n",
      " 3   transmission  108540 non-null  object \n",
      " 4   mileage       108540 non-null  int64  \n",
      " 5   fuelType      108540 non-null  object \n",
      " 6   tax           108540 non-null  float64\n",
      " 7   mpg           108540 non-null  float64\n",
      " 8   engineSize    108540 non-null  float64\n",
      " 9   brand         108540 non-null  object \n",
      "dtypes: float64(3), int64(3), object(4)\n",
      "memory usage: 9.1+ MB\n"
     ]
    }
   ],
   "source": [
    "df.info()"
   ]
  },
  {
   "cell_type": "markdown",
   "metadata": {},
   "source": [
    "## Análise exploratória de dados (AED)"
   ]
  },
  {
   "cell_type": "markdown",
   "metadata": {},
   "source": [
    "- Vamos analisar a quantidade de marcas pelo banco de dados;\n",
    "- Em seguida, verificaremos a distribuição dos preços."
   ]
  },
  {
   "cell_type": "code",
   "execution_count": 9,
   "metadata": {},
   "outputs": [
    {
     "data": {
      "text/plain": [
       "Text(0, 0.5, 'Quantidade')"
      ]
     },
     "execution_count": 9,
     "metadata": {},
     "output_type": "execute_result"
    },
    {
     "data": {
      "image/png": "[encoded data removed]",
      "text/plain": [
       "<Figure size 576x360 with 1 Axes>"
      ]
     },
     "metadata": {
      "needs_background": "light"
     },
     "output_type": "display_data"
    }
   ],
   "source": [
    "state = df['brand'].value_counts().sort_values(ascending=False)\n",
    "\n",
    "\n",
    "plt.figure(figsize=(8,5))\n",
    "sns.barplot(x=state.index, y=state.values)\n",
    "plt.xticks(rotation=45)\n",
    "plt.xlabel('Marcas')\n",
    "plt.ylabel('Quantidade')"
   ]
  },
  {
   "cell_type": "code",
   "execution_count": 10,
   "metadata": {},
   "outputs": [
    {
     "data": {
      "text/plain": [
       "<matplotlib.legend.Legend at 0x29a2d38f280>"
      ]
     },
     "execution_count": 10,
     "metadata": {},
     "output_type": "execute_result"
    },
    {
     "data": {
      "image/png": "[encoded data removed]",
      "text/plain": [
       "<Figure size 576x576 with 1 Axes>"
      ]
     },
     "metadata": {
      "needs_background": "light"
     },
     "output_type": "display_data"
    }
   ],
   "source": [
    "plt.figure(figsize=(8,8))\n",
    "plt.title('Distribuição dos Preços')\n",
    "sns.distplot(df['price'], kde=True, color='blue', fit=stats.norm)\n",
    "plt.legend(['Distribuição Normal', 'Preços'])"
   ]
  },
  {
   "cell_type": "markdown",
   "metadata": {},
   "source": [
    "Algumas análises possiveis:\n",
    "- A marca ford e a vw são encontradas em maior quantidade neste banco de dados\n",
    "- Os preços se mantem principalmente na região entre 0 ~ 50mil"
   ]
  },
  {
   "cell_type": "markdown",
   "metadata": {},
   "source": [
    "## Aplicando transformações"
   ]
  },
  {
   "cell_type": "markdown",
   "metadata": {},
   "source": [
    "Afim de construir um modelo de aprendizado de máquinas, algumas transformações serão necessárias:\n",
    "- Transformar variáveis categóricas em numéricas;\n",
    "- Restringir valores muito elevados(como preço e quilometragem) para um intervalo entre 0 e 1;\n",
    "    - Isto serve para que valores elevados de uma coluna não tenham um peso maior em relação a valores menores de outras colunas\n",
    "- Por último, dividir o banco de dados em 2 conjuntos: Treino e teste\n",
    "    - Essa divisão serve para fazer a avaliação do desempenho do modelo"
   ]
  },
  {
   "cell_type": "code",
   "execution_count": 11,
   "metadata": {},
   "outputs": [],
   "source": [
    "#Transformando variáveis categóricas em numéricas\n",
    "from sklearn.preprocessing import LabelEncoder\n",
    "\n",
    "cat_features = ['model', 'transmission', 'fuelType', 'brand']\n",
    "encoder = LabelEncoder()\n",
    "\n",
    "# Apply the label encoder to each column\n",
    "encoded = df[cat_features].apply(encoder.fit_transform)"
   ]
  },
  {
   "cell_type": "code",
   "execution_count": 12,
   "metadata": {},
   "outputs": [
    {
     "data": {
      "text/html": [
       "<div>\n",
       "<style scoped>\n",
       "    .dataframe tbody tr th:only-of-type {\n",
       "        vertical-align: middle;\n",
       "    }\n",
       "\n",
       "    .dataframe tbody tr th {\n",
       "        vertical-align: top;\n",
       "    }\n",
       "\n",
       "    .dataframe thead th {\n",
       "        text-align: right;\n",
       "    }\n",
       "</style>\n",
       "<table border=\"1\" class=\"dataframe\">\n",
       "  <thead>\n",
       "    <tr style=\"text-align: right;\">\n",
       "      <th></th>\n",
       "      <th>year</th>\n",
       "      <th>price</th>\n",
       "      <th>mileage</th>\n",
       "      <th>tax</th>\n",
       "      <th>mpg</th>\n",
       "      <th>engineSize</th>\n",
       "      <th>model</th>\n",
       "      <th>transmission</th>\n",
       "      <th>fuelType</th>\n",
       "      <th>brand</th>\n",
       "    </tr>\n",
       "  </thead>\n",
       "  <tbody>\n",
       "    <tr>\n",
       "      <th>0</th>\n",
       "      <td>2017</td>\n",
       "      <td>12500</td>\n",
       "      <td>15735</td>\n",
       "      <td>150.0</td>\n",
       "      <td>55.4</td>\n",
       "      <td>1.4</td>\n",
       "      <td>9</td>\n",
       "      <td>1</td>\n",
       "      <td>4</td>\n",
       "      <td>0</td>\n",
       "    </tr>\n",
       "    <tr>\n",
       "      <th>0</th>\n",
       "      <td>2017</td>\n",
       "      <td>12500</td>\n",
       "      <td>15735</td>\n",
       "      <td>150.0</td>\n",
       "      <td>55.4</td>\n",
       "      <td>1.4</td>\n",
       "      <td>4</td>\n",
       "      <td>0</td>\n",
       "      <td>0</td>\n",
       "      <td>1</td>\n",
       "    </tr>\n",
       "    <tr>\n",
       "      <th>0</th>\n",
       "      <td>2017</td>\n",
       "      <td>12500</td>\n",
       "      <td>15735</td>\n",
       "      <td>150.0</td>\n",
       "      <td>55.4</td>\n",
       "      <td>1.4</td>\n",
       "      <td>32</td>\n",
       "      <td>0</td>\n",
       "      <td>0</td>\n",
       "      <td>2</td>\n",
       "    </tr>\n",
       "    <tr>\n",
       "      <th>0</th>\n",
       "      <td>2017</td>\n",
       "      <td>12500</td>\n",
       "      <td>15735</td>\n",
       "      <td>150.0</td>\n",
       "      <td>55.4</td>\n",
       "      <td>1.4</td>\n",
       "      <td>61</td>\n",
       "      <td>1</td>\n",
       "      <td>4</td>\n",
       "      <td>3</td>\n",
       "    </tr>\n",
       "    <tr>\n",
       "      <th>0</th>\n",
       "      <td>2017</td>\n",
       "      <td>12500</td>\n",
       "      <td>15735</td>\n",
       "      <td>150.0</td>\n",
       "      <td>55.4</td>\n",
       "      <td>1.4</td>\n",
       "      <td>60</td>\n",
       "      <td>0</td>\n",
       "      <td>4</td>\n",
       "      <td>4</td>\n",
       "    </tr>\n",
       "  </tbody>\n",
       "</table>\n",
       "</div>"
      ],
      "text/plain": [
       "   year  price  mileage    tax   mpg  engineSize  model  transmission  \\\n",
       "0  2017  12500    15735  150.0  55.4         1.4      9             1   \n",
       "0  2017  12500    15735  150.0  55.4         1.4      4             0   \n",
       "0  2017  12500    15735  150.0  55.4         1.4     32             0   \n",
       "0  2017  12500    15735  150.0  55.4         1.4     61             1   \n",
       "0  2017  12500    15735  150.0  55.4         1.4     60             0   \n",
       "\n",
       "   fuelType  brand  \n",
       "0         4      0  \n",
       "0         0      1  \n",
       "0         0      2  \n",
       "0         4      3  \n",
       "0         4      4  "
      ]
     },
     "execution_count": 12,
     "metadata": {},
     "output_type": "execute_result"
    }
   ],
   "source": [
    "data = df[['year', 'price', 'mileage', 'tax', 'mpg', 'engineSize']].join(encoded)\n",
    "data.head()"
   ]
  },
  {
   "cell_type": "code",
   "execution_count": 13,
   "metadata": {},
   "outputs": [],
   "source": [
    "#Ajustando os valores para o intervalo entre 0 e 1\n",
    "from sklearn.preprocessing import MinMaxScaler\n",
    "scaler = MinMaxScaler()\n",
    "data[['year', 'price', 'mileage', 'tax', 'mpg', 'engineSize','model', 'fuelType','brand']] = \\\n",
    "scaler.fit_transform(data[['year', 'price', 'mileage', 'tax', 'mpg', 'engineSize','model', 'fuelType','brand']])"
   ]
  },
  {
   "cell_type": "code",
   "execution_count": 14,
   "metadata": {},
   "outputs": [
    {
     "data": {
      "text/html": [
       "<div>\n",
       "<style scoped>\n",
       "    .dataframe tbody tr th:only-of-type {\n",
       "        vertical-align: middle;\n",
       "    }\n",
       "\n",
       "    .dataframe tbody tr th {\n",
       "        vertical-align: top;\n",
       "    }\n",
       "\n",
       "    .dataframe thead th {\n",
       "        text-align: right;\n",
       "    }\n",
       "</style>\n",
       "<table border=\"1\" class=\"dataframe\">\n",
       "  <thead>\n",
       "    <tr style=\"text-align: right;\">\n",
       "      <th></th>\n",
       "      <th>year</th>\n",
       "      <th>price</th>\n",
       "      <th>mileage</th>\n",
       "      <th>tax</th>\n",
       "      <th>mpg</th>\n",
       "      <th>engineSize</th>\n",
       "      <th>model</th>\n",
       "      <th>transmission</th>\n",
       "      <th>fuelType</th>\n",
       "      <th>brand</th>\n",
       "    </tr>\n",
       "  </thead>\n",
       "  <tbody>\n",
       "    <tr>\n",
       "      <th>0</th>\n",
       "      <td>0.522222</td>\n",
       "      <td>0.075525</td>\n",
       "      <td>0.048712</td>\n",
       "      <td>0.258621</td>\n",
       "      <td>0.117109</td>\n",
       "      <td>0.024823</td>\n",
       "      <td>0.046392</td>\n",
       "      <td>1</td>\n",
       "      <td>1.0</td>\n",
       "      <td>0.0</td>\n",
       "    </tr>\n",
       "    <tr>\n",
       "      <th>0</th>\n",
       "      <td>0.522222</td>\n",
       "      <td>0.075525</td>\n",
       "      <td>0.048712</td>\n",
       "      <td>0.258621</td>\n",
       "      <td>0.117109</td>\n",
       "      <td>0.024823</td>\n",
       "      <td>0.020619</td>\n",
       "      <td>0</td>\n",
       "      <td>0.0</td>\n",
       "      <td>0.1</td>\n",
       "    </tr>\n",
       "    <tr>\n",
       "      <th>0</th>\n",
       "      <td>0.522222</td>\n",
       "      <td>0.075525</td>\n",
       "      <td>0.048712</td>\n",
       "      <td>0.258621</td>\n",
       "      <td>0.117109</td>\n",
       "      <td>0.024823</td>\n",
       "      <td>0.164948</td>\n",
       "      <td>0</td>\n",
       "      <td>0.0</td>\n",
       "      <td>0.2</td>\n",
       "    </tr>\n",
       "    <tr>\n",
       "      <th>0</th>\n",
       "      <td>0.522222</td>\n",
       "      <td>0.075525</td>\n",
       "      <td>0.048712</td>\n",
       "      <td>0.258621</td>\n",
       "      <td>0.117109</td>\n",
       "      <td>0.024823</td>\n",
       "      <td>0.314433</td>\n",
       "      <td>1</td>\n",
       "      <td>1.0</td>\n",
       "      <td>0.3</td>\n",
       "    </tr>\n",
       "    <tr>\n",
       "      <th>0</th>\n",
       "      <td>0.522222</td>\n",
       "      <td>0.075525</td>\n",
       "      <td>0.048712</td>\n",
       "      <td>0.258621</td>\n",
       "      <td>0.117109</td>\n",
       "      <td>0.024823</td>\n",
       "      <td>0.309278</td>\n",
       "      <td>0</td>\n",
       "      <td>1.0</td>\n",
       "      <td>0.4</td>\n",
       "    </tr>\n",
       "  </tbody>\n",
       "</table>\n",
       "</div>"
      ],
      "text/plain": [
       "       year     price   mileage       tax       mpg  engineSize     model  \\\n",
       "0  0.522222  0.075525  0.048712  0.258621  0.117109    0.024823  0.046392   \n",
       "0  0.522222  0.075525  0.048712  0.258621  0.117109    0.024823  0.020619   \n",
       "0  0.522222  0.075525  0.048712  0.258621  0.117109    0.024823  0.164948   \n",
       "0  0.522222  0.075525  0.048712  0.258621  0.117109    0.024823  0.314433   \n",
       "0  0.522222  0.075525  0.048712  0.258621  0.117109    0.024823  0.309278   \n",
       "\n",
       "   transmission  fuelType  brand  \n",
       "0             1       1.0    0.0  \n",
       "0             0       0.0    0.1  \n",
       "0             0       0.0    0.2  \n",
       "0             1       1.0    0.3  \n",
       "0             0       1.0    0.4  "
      ]
     },
     "execution_count": 14,
     "metadata": {},
     "output_type": "execute_result"
    }
   ],
   "source": [
    "data.head()"
   ]
  },
  {
   "cell_type": "code",
   "execution_count": 15,
   "metadata": {},
   "outputs": [
    {
     "name": "stdout",
     "output_type": "stream",
     "text": [
      "len(train)=709058; len(test)=177284\n"
     ]
    }
   ],
   "source": [
    "#Transformando em conjunto de treino e teste\n",
    "N = len(data)\n",
    "TRAIN_PERC = 0.80\n",
    "ind_train = np.random.rand(N) < TRAIN_PERC\n",
    "train, test = data[ind_train], data[~ind_train]\n",
    "print(f'len(train)={len(train)}; len(test)={len(test)}')"
   ]
  },
  {
   "cell_type": "code",
   "execution_count": 16,
   "metadata": {},
   "outputs": [],
   "source": [
    "X_train = train.drop('price', axis=1)\n",
    "y_train = train['price']\n",
    "X_test = test.drop('price', axis=1)\n",
    "y_test = test['price']"
   ]
  },
  {
   "cell_type": "markdown",
   "metadata": {},
   "source": [
    "Todas as transformações necessárias já foram realizadas, agora podemos iniciar a Modelagem"
   ]
  },
  {
   "cell_type": "markdown",
   "metadata": {},
   "source": [
    "### Modelagem"
   ]
  },
  {
   "cell_type": "markdown",
   "metadata": {},
   "source": [
    "Este problema será resolvido através de técnicas de regressão, para isso utilizaremos:\n",
    "- Ridge;\n",
    "- Regressão Linear;\n",
    "- Regressão de floresta aleatória.\n",
    "\n",
    "Primeiramente, criarei uma variável dicionário para receber os 3 algoritmos e depois faremos a avaliação do desempenho com uma função"
   ]
  },
  {
   "cell_type": "code",
   "execution_count": 17,
   "metadata": {},
   "outputs": [],
   "source": [
    "from sklearn.metrics import mean_squared_error\n",
    "from sklearn.linear_model import Ridge\n",
    "from sklearn.linear_model import LinearRegression\n",
    "from sklearn.ensemble import RandomForestRegressor\n",
    "\n",
    "clf_dict = {\n",
    "    'Ridge': Ridge,\n",
    "    'LinearRegression': LinearRegression,\n",
    "    'RandomForest': RandomForestRegressor\n",
    "}"
   ]
  },
  {
   "cell_type": "code",
   "execution_count": 19,
   "metadata": {},
   "outputs": [
    {
     "name": "stdout",
     "output_type": "stream",
     "text": [
      "Ridge Score gets in 0.32015619250889404\n",
      "LinearRegression Score gets in 0.32015704991250027\n",
      "RandomForest Score gets in 0.9877935173351794\n"
     ]
    }
   ],
   "source": [
    "from sklearn.metrics import r2_score\n",
    "import time\n",
    "def get_accuracy(clf, n_estimators=None, max_depth=None, learning_rate=None, max_iter=None):\n",
    "    start = time.time()\n",
    "    text_clf = clf(**params).fit(X_train, y_train)\n",
    "    predicted = text_clf.predict(X_test)\n",
    "    print(f'{clf_str} Score gets in {r2_score(y_test, predicted)}')\n",
    "\n",
    "result_dict = {}\n",
    "\n",
    "for clf_str, clf_fn in clf_dict.items():\n",
    "    params = {}\n",
    "    accuracy = get_accuracy(clf=clf_fn, **params)\n",
    "    result_dict[clf_str] = accuracy"
   ]
  },
  {
   "cell_type": "markdown",
   "metadata": {},
   "source": [
    "## Conclusão\n",
    "\n",
    "O modelo apresentado obteve uma precisão de 98% em prever o valor de um automóvel semi-novo com base nas suas características. Para chegar a esse resultado, os seguintes passos foram executados:\n",
    "- Limpeza dos dados;\n",
    "- Verificamos por meio de uma análise exploratória de dados algumas informações sobre o Dataset em questão;\n",
    "- Aplicamos algumas transformações necessárias para a modelagem;\n",
    "- Construimos o modelo no qual o algoritmo de Regressão de floresta aleatória obteve uma perfomance de 98% de acurácia."
   ]
  },
  {
   "cell_type": "code",
   "execution_count": null,
   "metadata": {},
   "outputs": [],
   "source": []
  }
 ],
 "metadata": {
  "kernelspec": {
   "display_name": "Python 3",
   "language": "python",
   "name": "python3"
  },
  "language_info": {
   "codemirror_mode": {
    "name": "ipython",
    "version": 3
   },
   "file_extension": ".py",
   "mimetype": "text/x-python",
   "name": "python",
   "nbconvert_exporter": "python",
   "pygments_lexer": "ipython3",
   "version": "3.8.3"
  }
 },
 "nbformat": 4,
 "nbformat_minor": 4
}
