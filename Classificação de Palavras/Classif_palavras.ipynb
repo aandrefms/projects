{
 "cells": [
  {
   "cell_type": "code",
   "execution_count": 1,
   "metadata": {},
   "outputs": [],
   "source": [
    "import os\n",
    "import random\n",
    "import re\n",
    "import time\n",
    "\n",
    "import pandas as pd\n",
    "import numpy as np\n",
    "# import warnings\n",
    "import warnings\n",
    "import seaborn as sns\n",
    "import os\n",
    "import matplotlib.pyplot as plt\n",
    "\n",
    "\n",
    "from sklearn.feature_extraction.text import CountVectorizer\n",
    "from sklearn.feature_extraction.text import TfidfTransformer\n",
    "\n",
    "from sklearn.naive_bayes import MultinomialNB\n",
    "from sklearn.ensemble import RandomForestClassifier, GradientBoostingClassifier\n",
    "from sklearn.linear_model import LogisticRegression, SGDClassifier, Perceptron, RidgeClassifier\n",
    "from sklearn.neural_network import MLPClassifier\n",
    "from sklearn.svm import LinearSVC\n",
    "from sklearn.tree import DecisionTreeClassifier \n",
    "\n",
    "import skopt\n",
    "from skopt import gp_minimize\n",
    "from skopt.space import Real, Integer\n",
    "from skopt.utils import use_named_args\n",
    "\n",
    "# ignore warnings\n",
    "warnings.filterwarnings(\"ignore\")\n",
    "# Any results you write to the current directory are saved as output."
   ]
  },
  {
   "cell_type": "markdown",
   "metadata": {},
   "source": [
    "## Primeiros Passos"
   ]
  },
  {
   "cell_type": "markdown",
   "metadata": {},
   "source": [
    "- Este Dataset consiste em um conjunto de comentários feitos em uma loja de livros\n",
    "    - O intuito será de criar um modelo para verificar se o comentário foi positivo ou negativo"
   ]
  },
  {
   "cell_type": "markdown",
   "metadata": {},
   "source": [
    "- Criei duas classes para fazer o controle dos \"sentimentos\" positivos, negativos e neutros."
   ]
  },
  {
   "cell_type": "code",
   "execution_count": 2,
   "metadata": {},
   "outputs": [],
   "source": [
    "import random \n",
    "class Sentiment: #created this class to not pass strings into the return\n",
    "    NEGATIVE = 'NEGATIVE'\n",
    "    POSITIVE = 'POSITIVE'\n",
    "    NEUTRAL = 'NEUTRAL'\n",
    "\n",
    "class Review:\n",
    "    def __init__(self, text, score):\n",
    "        self.text = text\n",
    "        self.score = score\n",
    "        self.sentiment = self.get_sentiment()\n",
    "    \n",
    "    def get_sentiment(self):\n",
    "        if self.score >= 4.0:\n",
    "            return Sentiment.POSITIVE\n",
    "        elif self.score == 3.0:\n",
    "            return Sentiment.NEUTRAL\n",
    "        else:\n",
    "            return Sentiment.NEGATIVE\n",
    "        \n",
    "class ReviewContainer:\n",
    "    def __init__(self, reviews):\n",
    "        self.reviews = reviews\n",
    "    \n",
    "    def evenly_distributed(self):\n",
    "        negative = list(filter(lambda x: x.sentiment == Sentiment.NEGATIVE, self.reviews))\n",
    "        positive = list(filter(lambda x: x.sentiment == Sentiment.POSITIVE, self.reviews))\n",
    "        positive_shrunk = positive [:len(negative)]\n",
    "        self.reviews = negative + positive_shrunk\n",
    "        random.shuffle(self.reviews)\n",
    "        "
   ]
  },
  {
   "cell_type": "code",
   "execution_count": 3,
   "metadata": {},
   "outputs": [],
   "source": [
    "import json\n",
    "file_name = './input/words_alg/sentiment/books_small_10000.json'\n",
    "reviews = []\n",
    "with open(file_name) as f:\n",
    "    for line in f:\n",
    "        review = json.loads(line) #using this i'll be able to transform in a dictionary\n",
    "        reviews.append(Review(review['reviewText'], review['overall']))"
   ]
  },
  {
   "cell_type": "markdown",
   "metadata": {},
   "source": [
    "### Visualizando"
   ]
  },
  {
   "cell_type": "code",
   "execution_count": 4,
   "metadata": {},
   "outputs": [
    {
     "data": {
      "text/html": [
       "<div>\n",
       "<style scoped>\n",
       "    .dataframe tbody tr th:only-of-type {\n",
       "        vertical-align: middle;\n",
       "    }\n",
       "\n",
       "    .dataframe tbody tr th {\n",
       "        vertical-align: top;\n",
       "    }\n",
       "\n",
       "    .dataframe thead th {\n",
       "        text-align: right;\n",
       "    }\n",
       "</style>\n",
       "<table border=\"1\" class=\"dataframe\">\n",
       "  <thead>\n",
       "    <tr style=\"text-align: right;\">\n",
       "      <th></th>\n",
       "      <th>text</th>\n",
       "    </tr>\n",
       "    <tr>\n",
       "      <th>Categoria</th>\n",
       "      <th></th>\n",
       "    </tr>\n",
       "  </thead>\n",
       "  <tbody>\n",
       "    <tr>\n",
       "      <th>NEGATIVE</th>\n",
       "      <td>644</td>\n",
       "    </tr>\n",
       "    <tr>\n",
       "      <th>NEUTRAL</th>\n",
       "      <td>978</td>\n",
       "    </tr>\n",
       "    <tr>\n",
       "      <th>POSITIVE</th>\n",
       "      <td>8378</td>\n",
       "    </tr>\n",
       "  </tbody>\n",
       "</table>\n",
       "</div>"
      ],
      "text/plain": [
       "           text\n",
       "Categoria      \n",
       "NEGATIVE    644\n",
       "NEUTRAL     978\n",
       "POSITIVE   8378"
      ]
     },
     "execution_count": 4,
     "metadata": {},
     "output_type": "execute_result"
    }
   ],
   "source": [
    "df = pd.DataFrame({'text': [x.text for x in reviews], 'Categoria' : [y.sentiment for y in reviews]\n",
    "                  })\n",
    "df.groupby('Categoria').count()"
   ]
  },
  {
   "cell_type": "markdown",
   "metadata": {},
   "source": [
    "- Como podemos ver, há muita discrepância nos valores dos 'sentimentos'.\n",
    "- Para resolver isso, usarei um container para nivelar os valores absolutos"
   ]
  },
  {
   "cell_type": "code",
   "execution_count": 5,
   "metadata": {},
   "outputs": [],
   "source": [
    "from sklearn.feature_extraction.text import CountVectorizer, TfidfVectorizer #give more value to specific kind of words\n",
    "#Container\n",
    "cont = ReviewContainer(reviews)\n",
    "cont.evenly_distributed()\n",
    "df = pd.DataFrame({'text': [x.text for x in cont.reviews], 'Categoria' : [y.sentiment for y in cont.reviews]\n",
    "                  })"
   ]
  },
  {
   "cell_type": "code",
   "execution_count": 6,
   "metadata": {},
   "outputs": [
    {
     "data": {
      "text/html": [
       "<div>\n",
       "<style scoped>\n",
       "    .dataframe tbody tr th:only-of-type {\n",
       "        vertical-align: middle;\n",
       "    }\n",
       "\n",
       "    .dataframe tbody tr th {\n",
       "        vertical-align: top;\n",
       "    }\n",
       "\n",
       "    .dataframe thead th {\n",
       "        text-align: right;\n",
       "    }\n",
       "</style>\n",
       "<table border=\"1\" class=\"dataframe\">\n",
       "  <thead>\n",
       "    <tr style=\"text-align: right;\">\n",
       "      <th></th>\n",
       "      <th>text</th>\n",
       "    </tr>\n",
       "    <tr>\n",
       "      <th>Categoria</th>\n",
       "      <th></th>\n",
       "    </tr>\n",
       "  </thead>\n",
       "  <tbody>\n",
       "    <tr>\n",
       "      <th>NEGATIVE</th>\n",
       "      <td>644</td>\n",
       "    </tr>\n",
       "    <tr>\n",
       "      <th>POSITIVE</th>\n",
       "      <td>644</td>\n",
       "    </tr>\n",
       "  </tbody>\n",
       "</table>\n",
       "</div>"
      ],
      "text/plain": [
       "           text\n",
       "Categoria      \n",
       "NEGATIVE    644\n",
       "POSITIVE    644"
      ]
     },
     "execution_count": 6,
     "metadata": {},
     "output_type": "execute_result"
    }
   ],
   "source": [
    "df1 = df.groupby('Categoria').count()\n",
    "df1.head()"
   ]
  },
  {
   "cell_type": "code",
   "execution_count": 7,
   "metadata": {},
   "outputs": [
    {
     "data": {
      "image/png": "[encoded data removed]",
      "text/plain": [
       "<Figure size 1080x720 with 1 Axes>"
      ]
     },
     "metadata": {
      "needs_background": "light"
     },
     "output_type": "display_data"
    }
   ],
   "source": [
    "plt.figure(figsize=(15,10))\n",
    "ax= sns.barplot(x=df1['text'].index, y=df1['text'].values,palette = sns.cubehelix_palette(len(df1.index)))"
   ]
  },
  {
   "cell_type": "markdown",
   "metadata": {},
   "source": [
    "### Aplicando transformações no Dataset"
   ]
  },
  {
   "cell_type": "markdown",
   "metadata": {},
   "source": [
    "Para ser possível modelar este dataset, preciso primeiramente converter os elementos da coluna 'text' em vetores"
   ]
  },
  {
   "cell_type": "code",
   "execution_count": 8,
   "metadata": {},
   "outputs": [],
   "source": [
    "X1 = [x.text for x in cont.reviews]\n",
    "y = [y.sentiment for y in cont.reviews]\n",
    "\n",
    "from sklearn.feature_extraction.text import CountVectorizer, TfidfVectorizer #give more value to specific kind of words\n",
    "vectorizer = TfidfVectorizer()\n",
    "X = vectorizer.fit_transform(X1)"
   ]
  },
  {
   "cell_type": "markdown",
   "metadata": {},
   "source": [
    "## Modelagem"
   ]
  },
  {
   "cell_type": "markdown",
   "metadata": {},
   "source": [
    "- Primeiro, dividirei o dataset em dois: Train e Test\n",
    "    - Servirá para, ao fazer a modelagem, poder testar o modelo em uma parte do dataset que não foi utilizado para a modelagem"
   ]
  },
  {
   "cell_type": "code",
   "execution_count": 22,
   "metadata": {},
   "outputs": [
    {
     "name": "stdout",
     "output_type": "stream",
     "text": [
      "len(train)=1026; len(test)=262\n"
     ]
    },
    {
     "data": {
      "text/plain": [
       "(262, 10405)"
      ]
     },
     "execution_count": 22,
     "metadata": {},
     "output_type": "execute_result"
    }
   ],
   "source": [
    "N = len(df)\n",
    "TRAIN_PERC = 0.8\n",
    "ind_train = np.random.rand(N) < TRAIN_PERC\n",
    "train, test = df[ind_train], df[~ind_train]\n",
    "print(f'len(train)={len(train)}; len(test)={len(test)}')\n",
    "\n",
    "from sklearn.feature_extraction.text import CountVectorizer, TfidfVectorizer, TfidfTransformer\n",
    "count_vect = CountVectorizer()\n",
    "X_train_counts = count_vect.fit_transform(train.text)\n",
    "X_train_counts.shape\n",
    "\n",
    "X_test_counts = count_vect.transform(test.text)\n",
    "X_test_counts.shape\n",
    "\n",
    "tfidf_transformer = TfidfTransformer()\n",
    "X_train_tfidf = tfidf_transformer.fit_transform(X_train_counts)\n",
    "X_train_tfidf.shape\n",
    "\n",
    "X_test_tfidf = tfidf_transformer.transform(X_test_counts)\n",
    "X_test_tfidf.shape"
   ]
  },
  {
   "cell_type": "markdown",
   "metadata": {},
   "source": [
    "- Aqui inicio o processo de modelagem"
   ]
  },
  {
   "cell_type": "code",
   "execution_count": 23,
   "metadata": {},
   "outputs": [],
   "source": [
    "clf_dict = {\n",
    "    'LogisticRegression': LogisticRegression,\n",
    "    'MultinomialNB': MultinomialNB,\n",
    "    'DecisionTreeClassifier': DecisionTreeClassifier,\n",
    "    'SGDClassifier': SGDClassifier,\n",
    "    'Perceptron': Perceptron,\n",
    "    'RidgeClassifier': RidgeClassifier,\n",
    "    'LinearSVC': LinearSVC,\n",
    "    'RandomForestClassifier': RandomForestClassifier,\n",
    "    'GradientBoostingClassifier': GradientBoostingClassifier,\n",
    "    #'MLPClassifier': MLPClassifier,\n",
    "}"
   ]
  },
  {
   "cell_type": "code",
   "execution_count": 24,
   "metadata": {},
   "outputs": [
    {
     "name": "stdout",
     "output_type": "stream",
     "text": [
      "Accuracy gets in 0.1s.\n",
      "Clf=LogisticRegression; Accuracy=0.8740458015267175\n",
      "Accuracy gets in 0.0s.\n",
      "Clf=MultinomialNB; Accuracy=0.8549618320610687\n",
      "Accuracy gets in 0.11s.\n",
      "Clf=DecisionTreeClassifier; Accuracy=0.7099236641221374\n",
      "Accuracy gets in 0.0s.\n",
      "Clf=SGDClassifier; Accuracy=0.8549618320610687\n",
      "Accuracy gets in 0.0s.\n",
      "Clf=Perceptron; Accuracy=0.8320610687022901\n",
      "Accuracy gets in 0.01s.\n",
      "Clf=RidgeClassifier; Accuracy=0.8549618320610687\n",
      "Accuracy gets in 0.01s.\n",
      "Clf=LinearSVC; Accuracy=0.8435114503816794\n",
      "Accuracy gets in 0.17s.\n",
      "Clf=RandomForestClassifier; Accuracy=0.8015267175572519\n",
      "Accuracy gets in 1.32s.\n",
      "Clf=GradientBoostingClassifier; Accuracy=0.7900763358778626\n"
     ]
    }
   ],
   "source": [
    "def get_accuracy(clf, n_estimators=None, max_depth=None, learning_rate=None, max_iter=None):\n",
    "    start = time.time()\n",
    "    text_clf = clf(**params).fit(X_train_tfidf, train.Categoria)\n",
    "    predicted = text_clf.predict(X_test_tfidf)\n",
    "    print(f'Accuracy gets in {round(time.time()-start, 2)}s.')\n",
    "    return np.mean(predicted == test.Categoria)\n",
    "\n",
    "result_dict = {}\n",
    "\n",
    "for clf_str, clf_fn in clf_dict.items():\n",
    "    if clf_str == 'LogisticRegression':\n",
    "        params = {'max_iter': 200}\n",
    "    elif clf_str == 'RandomForestClassifier':\n",
    "        params = {'n_estimators': 50,\n",
    "                  'max_depth': 10}\n",
    "    elif clf_str == 'DecisionTreeClassifier':\n",
    "        params = {'max_depth': 10}\n",
    "    elif clf_str == 'GradientBoostingClassifier':\n",
    "        params = {'n_estimators': 50,\n",
    "                  'learning_rate': 0.1}\n",
    "    else:\n",
    "        params = {}\n",
    "    accuracy = get_accuracy(clf=clf_fn, **params)\n",
    "    result_dict[clf_str] = accuracy\n",
    "    print(f\"Clf={clf_str}; Accuracy={accuracy}\")"
   ]
  },
  {
   "cell_type": "code",
   "execution_count": 25,
   "metadata": {},
   "outputs": [
    {
     "data": {
      "text/plain": [
       "{'LogisticRegression': 0.8740458015267175,\n",
       " 'MultinomialNB': 0.8549618320610687,\n",
       " 'SGDClassifier': 0.8549618320610687,\n",
       " 'RidgeClassifier': 0.8549618320610687,\n",
       " 'LinearSVC': 0.8435114503816794,\n",
       " 'Perceptron': 0.8320610687022901,\n",
       " 'RandomForestClassifier': 0.8015267175572519,\n",
       " 'GradientBoostingClassifier': 0.7900763358778626,\n",
       " 'DecisionTreeClassifier': 0.7099236641221374}"
      ]
     },
     "execution_count": 25,
     "metadata": {},
     "output_type": "execute_result"
    }
   ],
   "source": [
    "result_dict = {\n",
    "    k: v\n",
    "    for k, v in sorted(\n",
    "        result_dict.items(),\n",
    "        key=lambda x: x[1],\n",
    "        reverse=True\n",
    "    )\n",
    "}\n",
    "\n",
    "result_dict"
   ]
  },
  {
   "cell_type": "markdown",
   "metadata": {},
   "source": [
    "- Percebemos aqui valores aceitaveis sem fazer nenhuma optimização, chegando a 87% de precisão com LogisticRegression\n",
    "- Agora, inicio os processos de optimização afim de verificar se existem melhores parametros à serem utilizados"
   ]
  },
  {
   "cell_type": "code",
   "execution_count": 26,
   "metadata": {},
   "outputs": [],
   "source": [
    "DIM_Logistic = [\n",
    "    Integer(100, 400, name='max_iter')\n",
    "]\n",
    "\n",
    "DIM_SVC = [\n",
    "    Real(1e-5, 1, name='tol', prior='log-uniform'),\n",
    "    Real(0.1, 1.5, name='C', prior='log-uniform')\n",
    "]\n",
    "\n",
    "DIM_SGDC = [\n",
    "    Real(1e-5, 1e-2, name='alpha', prior='log-uniform')\n",
    "]\n",
    "\n",
    "DIM_RF = [\n",
    "    Integer(1, 100, name='n_estimators'),\n",
    "    Integer(5, 30, name='max_depth')\n",
    "]\n",
    "\n",
    "DIMS = {\n",
    "    'LogisticRegression': DIM_Logistic,\n",
    "    'LinearSVC': DIM_SVC,\n",
    "    'SGDClassifier': DIM_SGDC,\n",
    "    'RandomForestClassifier': DIM_RF\n",
    "}"
   ]
  },
  {
   "cell_type": "code",
   "execution_count": 27,
   "metadata": {},
   "outputs": [],
   "source": [
    "def optimize(clf_str='LinearSVC'):\n",
    "    \n",
    "    dimensions = DIMS[clf_str]\n",
    "    print(dimensions)\n",
    "    \n",
    "    @use_named_args(dimensions=dimensions)\n",
    "    def fitness(**params):\n",
    "        clf = clf_dict[clf_str](**params)\n",
    "        text_clf = clf.fit(X_train_tfidf, train.Categoria)\n",
    "        predicted = text_clf.predict(X_test_tfidf)\n",
    "        accuracy = np.mean(predicted == test.Categoria)\n",
    "        print(f'accuracy={accuracy} with params={params}')\n",
    "        return -1.0 * accuracy\n",
    "    \n",
    "    res = gp_minimize(func=fitness,\n",
    "                      dimensions=dimensions,\n",
    "                      acq_func='EI', # Expected Improvement.\n",
    "                      n_calls=10,\n",
    "                      random_state=666)\n",
    "    print(f'best accuracy={-1.0 * res.fun} with {res.x}')\n",
    "    return res"
   ]
  },
  {
   "cell_type": "code",
   "execution_count": 30,
   "metadata": {},
   "outputs": [
    {
     "name": "stdout",
     "output_type": "stream",
     "text": [
      "start optimizaton for LogisticRegression\n",
      "[Integer(low=100, high=400, prior='uniform', transform='identity')]\n",
      "accuracy=0.8740458015267175 with params={'max_iter': 131}\n",
      "accuracy=0.8740458015267175 with params={'max_iter': 163}\n",
      "accuracy=0.8740458015267175 with params={'max_iter': 139}\n",
      "accuracy=0.8740458015267175 with params={'max_iter': 325}\n",
      "accuracy=0.8740458015267175 with params={'max_iter': 201}\n",
      "accuracy=0.8740458015267175 with params={'max_iter': 173}\n",
      "accuracy=0.8740458015267175 with params={'max_iter': 178}\n",
      "accuracy=0.8740458015267175 with params={'max_iter': 184}\n",
      "accuracy=0.8740458015267175 with params={'max_iter': 239}\n",
      "accuracy=0.8740458015267175 with params={'max_iter': 170}\n",
      "best accuracy=0.8740458015267175 with [131]\n",
      "start optimizaton for LinearSVC\n",
      "[Real(low=1e-05, high=1, prior='log-uniform', transform='identity'), Real(low=0.1, high=1.5, prior='log-uniform', transform='identity')]\n",
      "accuracy=0.8664122137404581 with params={'tol': 3.2590317060358435e-05, 'C': 0.17723383193111547}\n",
      "accuracy=0.8473282442748091 with params={'tol': 4.414527342912078e-05, 'C': 0.7628816961239331}\n",
      "accuracy=0.8664122137404581 with params={'tol': 0.00047845573514670206, 'C': 0.19380701478072257}\n",
      "accuracy=0.8625954198473282 with params={'tol': 0.00019924054402314126, 'C': 0.21413112813185142}\n",
      "accuracy=0.8664122137404581 with params={'tol': 0.0020616191023600985, 'C': 0.1881485055702094}\n",
      "accuracy=0.8473282442748091 with params={'tol': 0.06844174269781644, 'C': 0.9211783872460952}\n",
      "accuracy=0.8625954198473282 with params={'tol': 0.0009713622714043581, 'C': 0.23559366117301345}\n",
      "accuracy=0.8473282442748091 with params={'tol': 5.9918414788335004e-05, 'C': 0.7310856330548163}\n",
      "accuracy=0.8435114503816794 with params={'tol': 0.045496473405299345, 'C': 1.0207519927651907}\n",
      "accuracy=0.8435114503816794 with params={'tol': 0.06871660898768098, 'C': 1.3215606065550862}\n",
      "best accuracy=0.8664122137404581 with [3.2590317060358435e-05, 0.17723383193111547]\n",
      "start optimizaton for SGDClassifier\n",
      "[Real(low=1e-05, high=0.01, prior='log-uniform', transform='identity')]\n",
      "accuracy=0.851145038167939 with params={'alpha': 2.031669923181096e-05}\n",
      "accuracy=0.8473282442748091 with params={'alpha': 4.3052494479948036e-05}\n",
      "accuracy=0.8435114503816794 with params={'alpha': 2.4374208772219314e-05}\n",
      "accuracy=0.8625954198473282 with params={'alpha': 0.0017823444328076245}\n",
      "accuracy=0.851145038167939 with params={'alpha': 0.0001018368738042549}\n",
      "accuracy=0.8129770992366412 with params={'alpha': 5.4078987915686634e-05}\n",
      "accuracy=0.8320610687022901 with params={'alpha': 6.020417803091192e-05}\n",
      "accuracy=0.8282442748091603 with params={'alpha': 6.974377878633414e-05}\n",
      "accuracy=0.8473282442748091 with params={'alpha': 0.00024463864226893333}\n",
      "accuracy=0.8282442748091603 with params={'alpha': 5.014212529363377e-05}\n",
      "best accuracy=0.8625954198473282 with [0.0017823444328076245]\n",
      "start optimizaton for RandomForestClassifier\n",
      "[Integer(low=1, high=100, prior='uniform', transform='identity'), Integer(low=5, high=30, prior='uniform', transform='identity')]\n",
      "accuracy=0.7442748091603053 with params={'n_estimators': 11, 'max_depth': 10}\n",
      "accuracy=0.7404580152671756 with params={'n_estimators': 14, 'max_depth': 24}\n",
      "accuracy=0.7900763358778626 with params={'n_estimators': 34, 'max_depth': 11}\n",
      "accuracy=0.7366412213740458 with params={'n_estimators': 27, 'max_depth': 12}\n",
      "accuracy=0.7900763358778626 with params={'n_estimators': 47, 'max_depth': 11}\n",
      "accuracy=0.8129770992366412 with params={'n_estimators': 77, 'max_depth': 25}\n",
      "accuracy=0.7862595419847328 with params={'n_estimators': 40, 'max_depth': 13}\n",
      "accuracy=0.7824427480916031 with params={'n_estimators': 16, 'max_depth': 23}\n",
      "accuracy=0.8053435114503816 with params={'n_estimators': 73, 'max_depth': 26}\n",
      "accuracy=0.7862595419847328 with params={'n_estimators': 77, 'max_depth': 29}\n",
      "best accuracy=0.8129770992366412 with [77, 25]\n"
     ]
    }
   ],
   "source": [
    "res_dict = {}\n",
    "for clf_str, clf_dim in DIMS.items():\n",
    "    print(f'start optimizaton for {clf_str}')\n",
    "    res = optimize(clf_str=clf_str)\n",
    "    res_dict[clf_str] = res"
   ]
  },
  {
   "cell_type": "code",
   "execution_count": 31,
   "metadata": {},
   "outputs": [
    {
     "name": "stdout",
     "output_type": "stream",
     "text": [
      "clf=LogisticRegression\n",
      "best accuracy=0.8740458015267175\n",
      "best hyperparameters={'max_iter': 131}\n",
      "\n",
      "clf=LinearSVC\n",
      "best accuracy=0.8664122137404581\n",
      "best hyperparameters={'tol': 3.2590317060358435e-05, 'C': 0.17723383193111547}\n",
      "\n",
      "clf=SGDClassifier\n",
      "best accuracy=0.8625954198473282\n",
      "best hyperparameters={'alpha': 0.0017823444328076245}\n",
      "\n",
      "clf=RandomForestClassifier\n",
      "best accuracy=0.8129770992366412\n",
      "best hyperparameters={'n_estimators': 77, 'max_depth': 25}\n",
      "\n"
     ]
    }
   ],
   "source": [
    "for clf_str, res in res_dict.items():\n",
    "    hyperparameters_label = [hp.name for hp in DIMS[clf_str]]\n",
    "    best_hyperparameters = dict(zip(hyperparameters_label, res.x))\n",
    "    print(f'clf={clf_str}\\nbest accuracy={-res.fun}\\nbest hyperparameters={best_hyperparameters}\\n')"
   ]
  },
  {
   "cell_type": "markdown",
   "metadata": {},
   "source": [
    "## Conclusão"
   ]
  },
  {
   "cell_type": "markdown",
   "metadata": {},
   "source": [
    "- O objetivo desse Kernel foi analisar e construir um modelo capaz de prever o padrão de texto em: descrições positivas e negativas.\n",
    "- Este estudo pode se reproduzido em websites, e-commerces, blogs, etc afim de verificar a quantidade de comentários positivos e negativos de determinado produto ou seção\n",
    "- Foi alcançado um percentual de 87.40% de precisão com apenas 1288 linhas de dados"
   ]
  },
  {
   "cell_type": "code",
   "execution_count": null,
   "metadata": {},
   "outputs": [],
   "source": []
  }
 ],
 "metadata": {
  "kernelspec": {
   "display_name": "Python 3",
   "language": "python",
   "name": "python3"
  },
  "language_info": {
   "codemirror_mode": {
    "name": "ipython",
    "version": 3
   },
   "file_extension": ".py",
   "mimetype": "text/x-python",
   "name": "python",
   "nbconvert_exporter": "python",
   "pygments_lexer": "ipython3",
   "version": "3.8.3"
  }
 },
 "nbformat": 4,
 "nbformat_minor": 4
}
